{
 "cells": [
  {
   "cell_type": "code",
   "execution_count": 1,
   "id": "initial_id",
   "metadata": {
    "collapsed": true
   },
   "outputs": [],
   "source": [
    "#Import Libraries\n",
    "import pandas as pd\n",
    "import matplotlib.pyplot as plt\n",
    "import seaborn as sns\n",
    "\n",
    "\n",
    "\n"
   ]
  },
  {
   "cell_type": "code",
   "execution_count": 2,
   "id": "d5c71c3d",
   "metadata": {},
   "outputs": [],
   "source": [
    "dn = pd.read_csv(\"C:/Users/vmari/OneDrive/Desktop/Lambton/2nd_term/AI/Project_Accidents_severity/US_Accidents_March23.csv\")"
   ]
  },
  {
   "cell_type": "code",
   "execution_count": 3,
   "id": "1b056e56",
   "metadata": {},
   "outputs": [
    {
     "data": {
      "text/html": [
       "<div>\n",
       "<style scoped>\n",
       "    .dataframe tbody tr th:only-of-type {\n",
       "        vertical-align: middle;\n",
       "    }\n",
       "\n",
       "    .dataframe tbody tr th {\n",
       "        vertical-align: top;\n",
       "    }\n",
       "\n",
       "    .dataframe thead th {\n",
       "        text-align: right;\n",
       "    }\n",
       "</style>\n",
       "<table border=\"1\" class=\"dataframe\">\n",
       "  <thead>\n",
       "    <tr style=\"text-align: right;\">\n",
       "      <th></th>\n",
       "      <th>ID</th>\n",
       "      <th>Source</th>\n",
       "      <th>Severity</th>\n",
       "      <th>Start_Time</th>\n",
       "      <th>End_Time</th>\n",
       "      <th>Start_Lat</th>\n",
       "      <th>Start_Lng</th>\n",
       "      <th>End_Lat</th>\n",
       "      <th>End_Lng</th>\n",
       "      <th>Distance(mi)</th>\n",
       "      <th>...</th>\n",
       "      <th>Roundabout</th>\n",
       "      <th>Station</th>\n",
       "      <th>Stop</th>\n",
       "      <th>Traffic_Calming</th>\n",
       "      <th>Traffic_Signal</th>\n",
       "      <th>Turning_Loop</th>\n",
       "      <th>Sunrise_Sunset</th>\n",
       "      <th>Civil_Twilight</th>\n",
       "      <th>Nautical_Twilight</th>\n",
       "      <th>Astronomical_Twilight</th>\n",
       "    </tr>\n",
       "  </thead>\n",
       "  <tbody>\n",
       "    <tr>\n",
       "      <th>0</th>\n",
       "      <td>A-1</td>\n",
       "      <td>Source2</td>\n",
       "      <td>3</td>\n",
       "      <td>2016-02-08 05:46:00</td>\n",
       "      <td>2016-02-08 11:00:00</td>\n",
       "      <td>39.865147</td>\n",
       "      <td>-84.058723</td>\n",
       "      <td>NaN</td>\n",
       "      <td>NaN</td>\n",
       "      <td>0.01</td>\n",
       "      <td>...</td>\n",
       "      <td>False</td>\n",
       "      <td>False</td>\n",
       "      <td>False</td>\n",
       "      <td>False</td>\n",
       "      <td>False</td>\n",
       "      <td>False</td>\n",
       "      <td>Night</td>\n",
       "      <td>Night</td>\n",
       "      <td>Night</td>\n",
       "      <td>Night</td>\n",
       "    </tr>\n",
       "    <tr>\n",
       "      <th>1</th>\n",
       "      <td>A-2</td>\n",
       "      <td>Source2</td>\n",
       "      <td>2</td>\n",
       "      <td>2016-02-08 06:07:59</td>\n",
       "      <td>2016-02-08 06:37:59</td>\n",
       "      <td>39.928059</td>\n",
       "      <td>-82.831184</td>\n",
       "      <td>NaN</td>\n",
       "      <td>NaN</td>\n",
       "      <td>0.01</td>\n",
       "      <td>...</td>\n",
       "      <td>False</td>\n",
       "      <td>False</td>\n",
       "      <td>False</td>\n",
       "      <td>False</td>\n",
       "      <td>False</td>\n",
       "      <td>False</td>\n",
       "      <td>Night</td>\n",
       "      <td>Night</td>\n",
       "      <td>Night</td>\n",
       "      <td>Day</td>\n",
       "    </tr>\n",
       "    <tr>\n",
       "      <th>2</th>\n",
       "      <td>A-3</td>\n",
       "      <td>Source2</td>\n",
       "      <td>2</td>\n",
       "      <td>2016-02-08 06:49:27</td>\n",
       "      <td>2016-02-08 07:19:27</td>\n",
       "      <td>39.063148</td>\n",
       "      <td>-84.032608</td>\n",
       "      <td>NaN</td>\n",
       "      <td>NaN</td>\n",
       "      <td>0.01</td>\n",
       "      <td>...</td>\n",
       "      <td>False</td>\n",
       "      <td>False</td>\n",
       "      <td>False</td>\n",
       "      <td>False</td>\n",
       "      <td>True</td>\n",
       "      <td>False</td>\n",
       "      <td>Night</td>\n",
       "      <td>Night</td>\n",
       "      <td>Day</td>\n",
       "      <td>Day</td>\n",
       "    </tr>\n",
       "    <tr>\n",
       "      <th>3</th>\n",
       "      <td>A-4</td>\n",
       "      <td>Source2</td>\n",
       "      <td>3</td>\n",
       "      <td>2016-02-08 07:23:34</td>\n",
       "      <td>2016-02-08 07:53:34</td>\n",
       "      <td>39.747753</td>\n",
       "      <td>-84.205582</td>\n",
       "      <td>NaN</td>\n",
       "      <td>NaN</td>\n",
       "      <td>0.01</td>\n",
       "      <td>...</td>\n",
       "      <td>False</td>\n",
       "      <td>False</td>\n",
       "      <td>False</td>\n",
       "      <td>False</td>\n",
       "      <td>False</td>\n",
       "      <td>False</td>\n",
       "      <td>Night</td>\n",
       "      <td>Day</td>\n",
       "      <td>Day</td>\n",
       "      <td>Day</td>\n",
       "    </tr>\n",
       "    <tr>\n",
       "      <th>4</th>\n",
       "      <td>A-5</td>\n",
       "      <td>Source2</td>\n",
       "      <td>2</td>\n",
       "      <td>2016-02-08 07:39:07</td>\n",
       "      <td>2016-02-08 08:09:07</td>\n",
       "      <td>39.627781</td>\n",
       "      <td>-84.188354</td>\n",
       "      <td>NaN</td>\n",
       "      <td>NaN</td>\n",
       "      <td>0.01</td>\n",
       "      <td>...</td>\n",
       "      <td>False</td>\n",
       "      <td>False</td>\n",
       "      <td>False</td>\n",
       "      <td>False</td>\n",
       "      <td>True</td>\n",
       "      <td>False</td>\n",
       "      <td>Day</td>\n",
       "      <td>Day</td>\n",
       "      <td>Day</td>\n",
       "      <td>Day</td>\n",
       "    </tr>\n",
       "  </tbody>\n",
       "</table>\n",
       "<p>5 rows × 46 columns</p>\n",
       "</div>"
      ],
      "text/plain": [
       "    ID   Source  Severity           Start_Time             End_Time  \\\n",
       "0  A-1  Source2         3  2016-02-08 05:46:00  2016-02-08 11:00:00   \n",
       "1  A-2  Source2         2  2016-02-08 06:07:59  2016-02-08 06:37:59   \n",
       "2  A-3  Source2         2  2016-02-08 06:49:27  2016-02-08 07:19:27   \n",
       "3  A-4  Source2         3  2016-02-08 07:23:34  2016-02-08 07:53:34   \n",
       "4  A-5  Source2         2  2016-02-08 07:39:07  2016-02-08 08:09:07   \n",
       "\n",
       "   Start_Lat  Start_Lng  End_Lat  End_Lng  Distance(mi)  ... Roundabout  \\\n",
       "0  39.865147 -84.058723      NaN      NaN          0.01  ...      False   \n",
       "1  39.928059 -82.831184      NaN      NaN          0.01  ...      False   \n",
       "2  39.063148 -84.032608      NaN      NaN          0.01  ...      False   \n",
       "3  39.747753 -84.205582      NaN      NaN          0.01  ...      False   \n",
       "4  39.627781 -84.188354      NaN      NaN          0.01  ...      False   \n",
       "\n",
       "  Station   Stop Traffic_Calming Traffic_Signal Turning_Loop Sunrise_Sunset  \\\n",
       "0   False  False           False          False        False          Night   \n",
       "1   False  False           False          False        False          Night   \n",
       "2   False  False           False           True        False          Night   \n",
       "3   False  False           False          False        False          Night   \n",
       "4   False  False           False           True        False            Day   \n",
       "\n",
       "  Civil_Twilight Nautical_Twilight Astronomical_Twilight  \n",
       "0          Night             Night                 Night  \n",
       "1          Night             Night                   Day  \n",
       "2          Night               Day                   Day  \n",
       "3            Day               Day                   Day  \n",
       "4            Day               Day                   Day  \n",
       "\n",
       "[5 rows x 46 columns]"
      ]
     },
     "execution_count": 3,
     "metadata": {},
     "output_type": "execute_result"
    }
   ],
   "source": [
    "dn.head()"
   ]
  },
  {
   "cell_type": "code",
   "execution_count": 4,
   "id": "89b5dba0",
   "metadata": {},
   "outputs": [
    {
     "data": {
      "text/plain": [
       "Index(['ID', 'Source', 'Severity', 'Start_Time', 'End_Time', 'Start_Lat',\n",
       "       'Start_Lng', 'End_Lat', 'End_Lng', 'Distance(mi)', 'Description',\n",
       "       'Street', 'City', 'County', 'State', 'Zipcode', 'Country', 'Timezone',\n",
       "       'Airport_Code', 'Weather_Timestamp', 'Temperature(F)', 'Wind_Chill(F)',\n",
       "       'Humidity(%)', 'Pressure(in)', 'Visibility(mi)', 'Wind_Direction',\n",
       "       'Wind_Speed(mph)', 'Precipitation(in)', 'Weather_Condition', 'Amenity',\n",
       "       'Bump', 'Crossing', 'Give_Way', 'Junction', 'No_Exit', 'Railway',\n",
       "       'Roundabout', 'Station', 'Stop', 'Traffic_Calming', 'Traffic_Signal',\n",
       "       'Turning_Loop', 'Sunrise_Sunset', 'Civil_Twilight', 'Nautical_Twilight',\n",
       "       'Astronomical_Twilight'],\n",
       "      dtype='object')"
      ]
     },
     "execution_count": 4,
     "metadata": {},
     "output_type": "execute_result"
    }
   ],
   "source": [
    "dn.columns"
   ]
  },
  {
   "cell_type": "code",
   "execution_count": 5,
   "id": "c570bfd6",
   "metadata": {},
   "outputs": [
    {
     "name": "stdout",
     "output_type": "stream",
     "text": [
      "ID                        0.000000\n",
      "Source                    0.000000\n",
      "Severity                  0.000000\n",
      "Start_Time                0.000000\n",
      "End_Time                  0.000000\n",
      "Start_Lat                 0.000000\n",
      "Start_Lng                 0.000000\n",
      "End_Lat                  44.029355\n",
      "End_Lng                  44.029355\n",
      "Distance(mi)              0.000000\n",
      "Description               0.000065\n",
      "Street                    0.140637\n",
      "City                      0.003274\n",
      "County                    0.000000\n",
      "State                     0.000000\n",
      "Zipcode                   0.024779\n",
      "Country                   0.000000\n",
      "Timezone                  0.101030\n",
      "Airport_Code              0.292881\n",
      "Weather_Timestamp         1.555666\n",
      "Temperature(F)            2.120143\n",
      "Wind_Chill(F)            25.865904\n",
      "Humidity(%)               2.253301\n",
      "Pressure(in)              1.820288\n",
      "Visibility(mi)            2.291524\n",
      "Wind_Direction            2.267043\n",
      "Wind_Speed(mph)           7.391355\n",
      "Precipitation(in)        28.512858\n",
      "Weather_Condition         2.244438\n",
      "Amenity                   0.000000\n",
      "Bump                      0.000000\n",
      "Crossing                  0.000000\n",
      "Give_Way                  0.000000\n",
      "Junction                  0.000000\n",
      "No_Exit                   0.000000\n",
      "Railway                   0.000000\n",
      "Roundabout                0.000000\n",
      "Station                   0.000000\n",
      "Stop                      0.000000\n",
      "Traffic_Calming           0.000000\n",
      "Traffic_Signal            0.000000\n",
      "Turning_Loop              0.000000\n",
      "Sunrise_Sunset            0.300787\n",
      "Civil_Twilight            0.300787\n",
      "Nautical_Twilight         0.300787\n",
      "Astronomical_Twilight     0.300787\n",
      "dtype: float64\n"
     ]
    }
   ],
   "source": [
    "null_counts=dn.isnull().sum()\n",
    "total_rows=len(dn)\n",
    "null_count_percetnage=(null_counts/total_rows)*100\n",
    "print(null_count_percetnage)"
   ]
  },
  {
   "cell_type": "code",
   "execution_count": 6,
   "id": "1033fa31",
   "metadata": {},
   "outputs": [
    {
     "name": "stdout",
     "output_type": "stream",
     "text": [
      "           Severity     Start_Lat     Start_Lng       End_Lat       End_Lng  \\\n",
      "count  7.728394e+06  7.728394e+06  7.728394e+06  4.325632e+06  4.325632e+06   \n",
      "mean   2.212384e+00  3.620119e+01 -9.470255e+01  3.626183e+01 -9.572557e+01   \n",
      "std    4.875313e-01  5.076079e+00  1.739176e+01  5.272905e+00  1.810793e+01   \n",
      "min    1.000000e+00  2.455480e+01 -1.246238e+02  2.456601e+01 -1.245457e+02   \n",
      "25%    2.000000e+00  3.339963e+01 -1.172194e+02  3.346207e+01 -1.177543e+02   \n",
      "50%    2.000000e+00  3.582397e+01 -8.776662e+01  3.618349e+01 -8.802789e+01   \n",
      "75%    2.000000e+00  4.008496e+01 -8.035368e+01  4.017892e+01 -8.024709e+01   \n",
      "max    4.000000e+00  4.900220e+01 -6.711317e+01  4.907500e+01 -6.710924e+01   \n",
      "\n",
      "       Distance(mi)  Temperature(F)  Wind_Chill(F)   Humidity(%)  \\\n",
      "count  7.728394e+06    7.564541e+06   5.729375e+06  7.554250e+06   \n",
      "mean   5.618423e-01    6.166329e+01   5.825105e+01  6.483104e+01   \n",
      "std    1.776811e+00    1.901365e+01   2.238983e+01  2.282097e+01   \n",
      "min    0.000000e+00   -8.900000e+01  -8.900000e+01  1.000000e+00   \n",
      "25%    0.000000e+00    4.900000e+01   4.300000e+01  4.800000e+01   \n",
      "50%    3.000000e-02    6.400000e+01   6.200000e+01  6.700000e+01   \n",
      "75%    4.640000e-01    7.600000e+01   7.500000e+01  8.400000e+01   \n",
      "max    4.417500e+02    2.070000e+02   2.070000e+02  1.000000e+02   \n",
      "\n",
      "       Pressure(in)  Visibility(mi)  Wind_Speed(mph)  Precipitation(in)  \n",
      "count  7.587715e+06    7.551296e+06     7.157161e+06       5.524808e+06  \n",
      "mean   2.953899e+01    9.090376e+00     7.685490e+00       8.407210e-03  \n",
      "std    1.006190e+00    2.688316e+00     5.424983e+00       1.102246e-01  \n",
      "min    0.000000e+00    0.000000e+00     0.000000e+00       0.000000e+00  \n",
      "25%    2.937000e+01    1.000000e+01     4.600000e+00       0.000000e+00  \n",
      "50%    2.986000e+01    1.000000e+01     7.000000e+00       0.000000e+00  \n",
      "75%    3.003000e+01    1.000000e+01     1.040000e+01       0.000000e+00  \n",
      "max    5.863000e+01    1.400000e+02     1.087000e+03       3.647000e+01  \n"
     ]
    }
   ],
   "source": [
    "print(dn.describe())\n"
   ]
  },
  {
   "cell_type": "code",
   "execution_count": 7,
   "id": "3e0112de",
   "metadata": {},
   "outputs": [
    {
     "data": {
      "text/plain": [
       "<bound method DataFrame.info of                 ID   Source  Severity           Start_Time  \\\n",
       "0              A-1  Source2         3  2016-02-08 05:46:00   \n",
       "1              A-2  Source2         2  2016-02-08 06:07:59   \n",
       "2              A-3  Source2         2  2016-02-08 06:49:27   \n",
       "3              A-4  Source2         3  2016-02-08 07:23:34   \n",
       "4              A-5  Source2         2  2016-02-08 07:39:07   \n",
       "...            ...      ...       ...                  ...   \n",
       "7728389  A-7777757  Source1         2  2019-08-23 18:03:25   \n",
       "7728390  A-7777758  Source1         2  2019-08-23 19:11:30   \n",
       "7728391  A-7777759  Source1         2  2019-08-23 19:00:21   \n",
       "7728392  A-7777760  Source1         2  2019-08-23 19:00:21   \n",
       "7728393  A-7777761  Source1         2  2019-08-23 18:52:06   \n",
       "\n",
       "                    End_Time  Start_Lat   Start_Lng   End_Lat    End_Lng  \\\n",
       "0        2016-02-08 11:00:00  39.865147  -84.058723       NaN        NaN   \n",
       "1        2016-02-08 06:37:59  39.928059  -82.831184       NaN        NaN   \n",
       "2        2016-02-08 07:19:27  39.063148  -84.032608       NaN        NaN   \n",
       "3        2016-02-08 07:53:34  39.747753  -84.205582       NaN        NaN   \n",
       "4        2016-02-08 08:09:07  39.627781  -84.188354       NaN        NaN   \n",
       "...                      ...        ...         ...       ...        ...   \n",
       "7728389  2019-08-23 18:32:01  34.002480 -117.379360  33.99888 -117.37094   \n",
       "7728390  2019-08-23 19:38:23  32.766960 -117.148060  32.76555 -117.15363   \n",
       "7728391  2019-08-23 19:28:49  33.775450 -117.847790  33.77740 -117.85727   \n",
       "7728392  2019-08-23 19:29:42  33.992460 -118.403020  33.98311 -118.39565   \n",
       "7728393  2019-08-23 19:21:31  34.133930 -117.230920  34.13736 -117.23934   \n",
       "\n",
       "         Distance(mi)  ... Roundabout Station   Stop Traffic_Calming  \\\n",
       "0               0.010  ...      False   False  False           False   \n",
       "1               0.010  ...      False   False  False           False   \n",
       "2               0.010  ...      False   False  False           False   \n",
       "3               0.010  ...      False   False  False           False   \n",
       "4               0.010  ...      False   False  False           False   \n",
       "...               ...  ...        ...     ...    ...             ...   \n",
       "7728389         0.543  ...      False   False  False           False   \n",
       "7728390         0.338  ...      False   False  False           False   \n",
       "7728391         0.561  ...      False   False  False           False   \n",
       "7728392         0.772  ...      False   False  False           False   \n",
       "7728393         0.537  ...      False   False  False           False   \n",
       "\n",
       "        Traffic_Signal Turning_Loop Sunrise_Sunset Civil_Twilight  \\\n",
       "0                False        False          Night          Night   \n",
       "1                False        False          Night          Night   \n",
       "2                 True        False          Night          Night   \n",
       "3                False        False          Night            Day   \n",
       "4                 True        False            Day            Day   \n",
       "...                ...          ...            ...            ...   \n",
       "7728389          False        False            Day            Day   \n",
       "7728390          False        False            Day            Day   \n",
       "7728391          False        False            Day            Day   \n",
       "7728392          False        False            Day            Day   \n",
       "7728393          False        False            Day            Day   \n",
       "\n",
       "        Nautical_Twilight Astronomical_Twilight  \n",
       "0                   Night                 Night  \n",
       "1                   Night                   Day  \n",
       "2                     Day                   Day  \n",
       "3                     Day                   Day  \n",
       "4                     Day                   Day  \n",
       "...                   ...                   ...  \n",
       "7728389               Day                   Day  \n",
       "7728390               Day                   Day  \n",
       "7728391               Day                   Day  \n",
       "7728392               Day                   Day  \n",
       "7728393               Day                   Day  \n",
       "\n",
       "[7728394 rows x 46 columns]>"
      ]
     },
     "execution_count": 7,
     "metadata": {},
     "output_type": "execute_result"
    }
   ],
   "source": [
    "dn.info"
   ]
  },
  {
   "cell_type": "markdown",
   "id": "1b39a087",
   "metadata": {},
   "source": [
    "##Scatter plots for finding correlation between Severity and features"
   ]
  },
  {
   "cell_type": "code",
   "execution_count": 17,
   "id": "e38d3e8e",
   "metadata": {},
   "outputs": [
    {
     "data": {
      "image/png": "[encoded data removed]",
      "text/plain": [
       "<Figure size 640x480 with 1 Axes>"
      ]
     },
     "metadata": {},
     "output_type": "display_data"
    }
   ],
   "source": [
    "\n",
    "#Precipitation in this dataset refers to precipitation acumulation amount\n",
    "#Scatter plot\n",
    "correlation_coefficient_p = dn['Precipitation(in)'].corr(dn['Severity'])\n",
    "plt.scatter(dn['Precipitation(in)'], dn['Severity'])\n",
    "plt.xlabel('Precipitation(in)')\n",
    "plt.ylabel('Severity')\n",
    "plt.title(f'Scatter Plot Precipitation(in) vs Severity\\nCorrelation Coefficient (R): {correlation_coefficient_p:.2f}')\n",
    "\n",
    "plt.show()"
   ]
  },
  {
   "cell_type": "code",
   "execution_count": 15,
   "id": "1fcdfa03",
   "metadata": {},
   "outputs": [
    {
     "data": {
      "image/png": "[encoded data removed]",
      "text/plain": [
       "<Figure size 640x480 with 1 Axes>"
      ]
     },
     "metadata": {},
     "output_type": "display_data"
    }
   ],
   "source": [
    "#End Latitude Scatter plot\n",
    "correlation_coefficient_endLat = dn['End_Lat'].corr(dn['Severity'])\n",
    "plt.scatter(dn['End_Lat'], dn['Severity'])\n",
    "plt.xlabel('End Latitude')\n",
    "plt.ylabel('Severity')\n",
    "plt.title(f'Scatter Plot End Latitude vs Severity\\nCorrelation Coefficient (R): {correlation_coefficient_endLat:.2f}')\n",
    "\n",
    "plt.show()"
   ]
  },
  {
   "cell_type": "code",
   "execution_count": 16,
   "id": "3a43d800",
   "metadata": {},
   "outputs": [
    {
     "data": {
      "image/png": "[encoded data removed]",
      "text/plain": [
       "<Figure size 640x480 with 1 Axes>"
      ]
     },
     "metadata": {},
     "output_type": "display_data"
    }
   ],
   "source": [
    "#End Longitude Scatter plot\n",
    "correlation_coefficient_endLong = dn['End_Lng'].corr(dn['Severity'])\n",
    "plt.scatter(dn['End_Lng'], dn['Severity'])\n",
    "plt.xlabel('End Longitude')\n",
    "plt.ylabel('Severity')\n",
    "plt.title(f'Scatter Plot End Latitude vs Severity\\nCorrelation Coefficient (R): {correlation_coefficient_endLat:.2f}')\n",
    "\n",
    "plt.show()"
   ]
  },
  {
   "cell_type": "code",
   "execution_count": 18,
   "id": "7fa104f9",
   "metadata": {},
   "outputs": [
    {
     "data": {
      "image/png": "[encoded data removed]",
      "text/plain": [
       "<Figure size 640x480 with 1 Axes>"
      ]
     },
     "metadata": {},
     "output_type": "display_data"
    }
   ],
   "source": [
    "#Wind Chill Scatter plot\n",
    "correlation_coefficient_WC = dn['Wind_Chill(F)'].corr(dn['Severity'])\n",
    "plt.scatter(dn['Wind_Chill(F)'], dn['Severity'])\n",
    "plt.xlabel('Wind Chill(F)')\n",
    "plt.ylabel('Severity')\n",
    "plt.title(f'Scatter Plot Wind Chill(F) vs Severity\\nCorrelation Coefficient (R): {correlation_coefficient_WC:.2f}')\n",
    "\n",
    "plt.show()"
   ]
  },
  {
   "cell_type": "code",
   "execution_count": null,
   "id": "e07c004c",
   "metadata": {},
   "outputs": [],
   "source": [
    "##1 Dany"
   ]
  },
  {
   "cell_type": "code",
   "execution_count": null,
   "id": "0c90e0ee",
   "metadata": {},
   "outputs": [],
   "source": [
    "##2 Dany"
   ]
  },
  {
   "cell_type": "code",
   "execution_count": null,
   "id": "307b3665",
   "metadata": {},
   "outputs": [],
   "source": [
    "##3 Dany"
   ]
  },
  {
   "cell_type": "code",
   "execution_count": null,
   "id": "2deb1c2a",
   "metadata": {},
   "outputs": [],
   "source": [
    "##4 Dany"
   ]
  },
  {
   "cell_type": "code",
   "execution_count": null,
   "id": "51a83136",
   "metadata": {},
   "outputs": [],
   "source": [
    "##5 Dany"
   ]
  },
  {
   "cell_type": "code",
   "execution_count": null,
   "id": "d837eb1c",
   "metadata": {},
   "outputs": [],
   "source": [
    "##6 Dany"
   ]
  },
  {
   "cell_type": "code",
   "execution_count": null,
   "id": "c6fddd5e",
   "metadata": {},
   "outputs": [],
   "source": [
    "##7 Dany"
   ]
  },
  {
   "cell_type": "code",
   "execution_count": null,
   "id": "0e78f5bc",
   "metadata": {},
   "outputs": [],
   "source": [
    "##8 Dany"
   ]
  },
  {
   "cell_type": "code",
   "execution_count": null,
   "id": "c466b54d",
   "metadata": {},
   "outputs": [],
   "source": [
    "##9 Dany"
   ]
  },
  {
   "cell_type": "code",
   "execution_count": null,
   "id": "fa8e248b",
   "metadata": {},
   "outputs": [],
   "source": [
    "##10 Dany"
   ]
  },
  {
   "cell_type": "code",
   "execution_count": null,
   "id": "70f1b370",
   "metadata": {},
   "outputs": [],
   "source": [
    "##11 Dany"
   ]
  },
  {
   "cell_type": "code",
   "execution_count": null,
   "id": "de252dc1",
   "metadata": {},
   "outputs": [],
   "source": [
    "##12 Dany"
   ]
  },
  {
   "cell_type": "code",
   "execution_count": null,
   "id": "f559f616",
   "metadata": {},
   "outputs": [],
   "source": [
    "##13 Dany"
   ]
  },
  {
   "cell_type": "code",
   "execution_count": null,
   "id": "f8a30efc",
   "metadata": {},
   "outputs": [],
   "source": [
    "##14 Dany"
   ]
  },
  {
   "cell_type": "code",
   "execution_count": null,
   "id": "ed608eef",
   "metadata": {},
   "outputs": [],
   "source": [
    "##1 Mar"
   ]
  },
  {
   "cell_type": "code",
   "execution_count": null,
   "id": "c3d71da6",
   "metadata": {},
   "outputs": [],
   "source": [
    "##2 Mar"
   ]
  },
  {
   "cell_type": "code",
   "execution_count": null,
   "id": "ab9dd430",
   "metadata": {},
   "outputs": [],
   "source": [
    "##3 Mar"
   ]
  },
  {
   "cell_type": "code",
   "execution_count": null,
   "id": "274f00d8",
   "metadata": {},
   "outputs": [],
   "source": [
    "##4 Mar"
   ]
  },
  {
   "cell_type": "code",
   "execution_count": null,
   "id": "03d42a89",
   "metadata": {},
   "outputs": [],
   "source": [
    "##5 Mar"
   ]
  },
  {
   "cell_type": "code",
   "execution_count": null,
   "id": "fe9087cc",
   "metadata": {},
   "outputs": [],
   "source": [
    "##6 Mar"
   ]
  },
  {
   "cell_type": "code",
   "execution_count": null,
   "id": "63b65c3e",
   "metadata": {},
   "outputs": [],
   "source": [
    "##7 Mar"
   ]
  },
  {
   "cell_type": "code",
   "execution_count": null,
   "id": "3abf868e",
   "metadata": {},
   "outputs": [],
   "source": [
    "##8 Mar"
   ]
  },
  {
   "cell_type": "code",
   "execution_count": null,
   "id": "a2319142",
   "metadata": {},
   "outputs": [],
   "source": [
    "##9 Mar"
   ]
  },
  {
   "cell_type": "code",
   "execution_count": null,
   "id": "1971747b",
   "metadata": {},
   "outputs": [],
   "source": [
    "##10 Mar"
   ]
  },
  {
   "cell_type": "code",
   "execution_count": null,
   "id": "f275bcc0",
   "metadata": {},
   "outputs": [],
   "source": [
    "##11 Mar"
   ]
  },
  {
   "cell_type": "code",
   "execution_count": null,
   "id": "10a38e57",
   "metadata": {},
   "outputs": [],
   "source": [
    "##12 Mar"
   ]
  },
  {
   "cell_type": "code",
   "execution_count": null,
   "id": "958ac07c",
   "metadata": {},
   "outputs": [],
   "source": [
    "##13 Mar"
   ]
  },
  {
   "cell_type": "code",
   "execution_count": null,
   "id": "5ad40c59",
   "metadata": {},
   "outputs": [],
   "source": [
    "##14 Mar"
   ]
  },
  {
   "cell_type": "code",
   "execution_count": null,
   "id": "c12eeef0",
   "metadata": {},
   "outputs": [],
   "source": [
    "##1 Lau"
   ]
  },
  {
   "cell_type": "code",
   "execution_count": null,
   "id": "9969208d",
   "metadata": {},
   "outputs": [],
   "source": [
    "##2 Lau"
   ]
  },
  {
   "cell_type": "code",
   "execution_count": null,
   "id": "b8101899",
   "metadata": {},
   "outputs": [],
   "source": [
    "##3 Lau"
   ]
  },
  {
   "cell_type": "code",
   "execution_count": null,
   "id": "47116a66",
   "metadata": {},
   "outputs": [],
   "source": [
    "##4 Lau"
   ]
  },
  {
   "cell_type": "code",
   "execution_count": null,
   "id": "e7aa933f",
   "metadata": {},
   "outputs": [],
   "source": [
    "##5 Lau"
   ]
  },
  {
   "cell_type": "code",
   "execution_count": null,
   "id": "4c34d3d7",
   "metadata": {},
   "outputs": [],
   "source": [
    "##6 Lau"
   ]
  },
  {
   "cell_type": "code",
   "execution_count": null,
   "id": "a173c6de",
   "metadata": {},
   "outputs": [],
   "source": [
    "##7 Lau"
   ]
  },
  {
   "cell_type": "code",
   "execution_count": null,
   "id": "53c74b84",
   "metadata": {},
   "outputs": [],
   "source": [
    "##8 Lau"
   ]
  },
  {
   "cell_type": "code",
   "execution_count": null,
   "id": "718c73df",
   "metadata": {},
   "outputs": [],
   "source": [
    "##9 Lau"
   ]
  },
  {
   "cell_type": "code",
   "execution_count": null,
   "id": "fb0a8bb7",
   "metadata": {},
   "outputs": [],
   "source": [
    "##10 Lau"
   ]
  },
  {
   "cell_type": "code",
   "execution_count": null,
   "id": "61837c66",
   "metadata": {},
   "outputs": [],
   "source": [
    "##11 Lau"
   ]
  },
  {
   "cell_type": "code",
   "execution_count": null,
   "id": "34ee5c19",
   "metadata": {},
   "outputs": [],
   "source": [
    "##12 Lau"
   ]
  },
  {
   "cell_type": "code",
   "execution_count": null,
   "id": "7b9e9de0",
   "metadata": {},
   "outputs": [],
   "source": [
    "##13 Lau"
   ]
  },
  {
   "cell_type": "code",
   "execution_count": null,
   "id": "4f60117f",
   "metadata": {},
   "outputs": [],
   "source": [
    "##14 Lau"
   ]
  }
 ],
 "metadata": {
  "kernelspec": {
   "display_name": "Python 3",
   "language": "python",
   "name": "python3"
  },
  "language_info": {
   "codemirror_mode": {
    "name": "ipython",
    "version": 3
   },
   "file_extension": ".py",
   "mimetype": "text/x-python",
   "name": "python",
   "nbconvert_exporter": "python",
   "pygments_lexer": "ipython3",
   "version": "3.12.0"
  }
 },
 "nbformat": 4,
 "nbformat_minor": 5
}
