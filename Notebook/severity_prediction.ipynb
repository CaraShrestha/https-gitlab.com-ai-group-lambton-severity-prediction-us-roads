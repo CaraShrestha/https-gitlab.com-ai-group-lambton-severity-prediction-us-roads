{
 "cells": [
  {
   "cell_type": "code",
   "execution_count": 4,
   "metadata": {
    "ExecuteTime": {
     "end_time": "2024-04-02T21:58:38.417420400Z",
     "start_time": "2024-04-02T21:58:35.795136900Z"
    }
   },
   "outputs": [],
   "source": [
    "# Import Libraries\n",
    "import pandas as pd\n",
    "import matplotlib.pyplot as plt\n",
    "import seaborn as sns\n",
    "import constants\n",
    "# Relevant libraries importation.\n",
    "from sklearn.model_selection import train_test_split\n",
    "from sklearn.preprocessing import LabelEncoder\n",
    "#from sklearn.preprocessing import OneHotEncoder\n",
    "from sklearn.metrics import precision_score, accuracy_score, \\\n",
    "    recall_score, classification_report, \\\n",
    "    confusion_matrix, roc_auc_score\n",
    "# RFM\n",
    "from sklearn.ensemble import RandomForestClassifier\n",
    "# NBC\n",
    "from sklearn.naive_bayes import CategoricalNB\n",
    "# NN\n",
    "from sklearn.preprocessing import StandardScaler\n",
    "from sklearn.neural_network import MLPClassifier\n",
    "import joblib"
   ]
  },
  {
   "cell_type": "code",
   "execution_count": 5,
   "metadata": {
    "ExecuteTime": {
     "end_time": "2024-04-02T22:00:26.766290700Z",
     "start_time": "2024-04-02T21:58:36.526018200Z"
    }
   },
   "outputs": [
    {
     "name": "stdout",
     "output_type": "stream",
     "text": [
      "<class 'pandas.core.frame.DataFrame'>\n",
      "RangeIndex: 7728394 entries, 0 to 7728393\n",
      "Data columns (total 46 columns):\n",
      " #   Column                 Dtype  \n",
      "---  ------                 -----  \n",
      " 0   ID                     object \n",
      " 1   Source                 object \n",
      " 2   Severity               int64  \n",
      " 3   Start_Time             object \n",
      " 4   End_Time               object \n",
      " 5   Start_Lat              float64\n",
      " 6   Start_Lng              float64\n",
      " 7   End_Lat                float64\n",
      " 8   End_Lng                float64\n",
      " 9   Distance(mi)           float64\n",
      " 10  Description            object \n",
      " 11  Street                 object \n",
      " 12  City                   object \n",
      " 13  County                 object \n",
      " 14  State                  object \n",
      " 15  Zipcode                object \n",
      " 16  Country                object \n",
      " 17  Timezone               object \n",
      " 18  Airport_Code           object \n",
      " 19  Weather_Timestamp      object \n",
      " 20  Temperature(F)         float64\n",
      " 21  Wind_Chill(F)          float64\n",
      " 22  Humidity(%)            float64\n",
      " 23  Pressure(in)           float64\n",
      " 24  Visibility(mi)         float64\n",
      " 25  Wind_Direction         object \n",
      " 26  Wind_Speed(mph)        float64\n",
      " 27  Precipitation(in)      float64\n",
      " 28  Weather_Condition      object \n",
      " 29  Amenity                bool   \n",
      " 30  Bump                   bool   \n",
      " 31  Crossing               bool   \n",
      " 32  Give_Way               bool   \n",
      " 33  Junction               bool   \n",
      " 34  No_Exit                bool   \n",
      " 35  Railway                bool   \n",
      " 36  Roundabout             bool   \n",
      " 37  Station                bool   \n",
      " 38  Stop                   bool   \n",
      " 39  Traffic_Calming        bool   \n",
      " 40  Traffic_Signal         bool   \n",
      " 41  Turning_Loop           bool   \n",
      " 42  Sunrise_Sunset         object \n",
      " 43  Civil_Twilight         object \n",
      " 44  Nautical_Twilight      object \n",
      " 45  Astronomical_Twilight  object \n",
      "dtypes: bool(13), float64(12), int64(1), object(20)\n",
      "memory usage: 2.0+ GB\n"
     ]
    }
   ],
   "source": [
    "dn = pd.read_csv(constants.dataset_url)\n",
    "dn.info()"
   ]
  },
  {
   "cell_type": "code",
   "execution_count": 6,
   "metadata": {
    "ExecuteTime": {
     "end_time": "2024-04-02T22:00:55.632978100Z",
     "start_time": "2024-04-02T22:00:26.781920400Z"
    }
   },
   "outputs": [],
   "source": [
    "dn['Start_Time'] = pd.to_datetime(dn['Start_Time'], format='ISO8601')\n",
    "dn['End_Time'] = pd.to_datetime(dn['End_Time'], format='ISO8601')\n",
    "\n",
    "# Extract date and hour components\n",
    "dn['Start_Date'] = dn['Start_Time'].dt.date\n",
    "dn['End_Date'] = dn['End_Time'].dt.date\n",
    "dn['Start_Time_'] = dn['Start_Time'].dt.time\n",
    "dn['End_Time_'] = dn['End_Time'].dt.time\n"
   ]
  },
  {
   "cell_type": "code",
   "execution_count": 7,
   "metadata": {
    "ExecuteTime": {
     "end_time": "2024-04-02T22:00:55.823196800Z",
     "start_time": "2024-04-02T22:00:55.632978100Z"
    }
   },
   "outputs": [
    {
     "data": {
      "text/plain": "    ID   Source  Severity          Start_Time            End_Time  Start_Lat  \\\n0  A-1  Source2         3 2016-02-08 05:46:00 2016-02-08 11:00:00  39.865147   \n1  A-2  Source2         2 2016-02-08 06:07:59 2016-02-08 06:37:59  39.928059   \n2  A-3  Source2         2 2016-02-08 06:49:27 2016-02-08 07:19:27  39.063148   \n3  A-4  Source2         3 2016-02-08 07:23:34 2016-02-08 07:53:34  39.747753   \n4  A-5  Source2         2 2016-02-08 07:39:07 2016-02-08 08:09:07  39.627781   \n\n   Start_Lng  End_Lat  End_Lng  Distance(mi)  \\\n0 -84.058723      NaN      NaN          0.01   \n1 -82.831184      NaN      NaN          0.01   \n2 -84.032608      NaN      NaN          0.01   \n3 -84.205582      NaN      NaN          0.01   \n4 -84.188354      NaN      NaN          0.01   \n\n                                         Description  \\\n0  Right lane blocked due to accident on I-70 Eas...   \n1  Accident on Brice Rd at Tussing Rd. Expect del...   \n2  Accident on OH-32 State Route 32 Westbound at ...   \n3  Accident on I-75 Southbound at Exits 52 52B US...   \n4  Accident on McEwen Rd at OH-725 Miamisburg Cen...   \n\n                      Street          City      County State     Zipcode  \\\n0                     I-70 E        Dayton  Montgomery    OH       45424   \n1                   Brice Rd  Reynoldsburg    Franklin    OH  43068-3402   \n2             State Route 32  Williamsburg    Clermont    OH       45176   \n3                     I-75 S        Dayton  Montgomery    OH       45417   \n4  Miamisburg Centerville Rd        Dayton  Montgomery    OH       45459   \n\n  Country    Timezone Airport_Code    Weather_Timestamp  Temperature(F)  \\\n0      US  US/Eastern         KFFO  2016-02-08 05:58:00            36.9   \n1      US  US/Eastern         KCMH  2016-02-08 05:51:00            37.9   \n2      US  US/Eastern         KI69  2016-02-08 06:56:00            36.0   \n3      US  US/Eastern         KDAY  2016-02-08 07:38:00            35.1   \n4      US  US/Eastern         KMGY  2016-02-08 07:53:00            36.0   \n\n   Wind_Chill(F)  Humidity(%)  Pressure(in)  Visibility(mi) Wind_Direction  \\\n0            NaN         91.0         29.68            10.0           Calm   \n1            NaN        100.0         29.65            10.0           Calm   \n2           33.3        100.0         29.67            10.0             SW   \n3           31.0         96.0         29.64             9.0             SW   \n4           33.3         89.0         29.65             6.0             SW   \n\n   Wind_Speed(mph)  Precipitation(in) Weather_Condition  Amenity   Bump  \\\n0              NaN               0.02        Light Rain    False  False   \n1              NaN               0.00        Light Rain    False  False   \n2              3.5                NaN          Overcast    False  False   \n3              4.6                NaN     Mostly Cloudy    False  False   \n4              3.5                NaN     Mostly Cloudy    False  False   \n\n   Crossing  Give_Way  Junction  No_Exit  Railway  Roundabout  Station   Stop  \\\n0     False     False     False    False    False       False    False  False   \n1     False     False     False    False    False       False    False  False   \n2     False     False     False    False    False       False    False  False   \n3     False     False     False    False    False       False    False  False   \n4     False     False     False    False    False       False    False  False   \n\n   Traffic_Calming  Traffic_Signal  Turning_Loop Sunrise_Sunset  \\\n0            False           False         False          Night   \n1            False           False         False          Night   \n2            False            True         False          Night   \n3            False           False         False          Night   \n4            False            True         False            Day   \n\n  Civil_Twilight Nautical_Twilight Astronomical_Twilight  Start_Date  \\\n0          Night             Night                 Night  2016-02-08   \n1          Night             Night                   Day  2016-02-08   \n2          Night               Day                   Day  2016-02-08   \n3            Day               Day                   Day  2016-02-08   \n4            Day               Day                   Day  2016-02-08   \n\n     End_Date Start_Time_ End_Time_  \n0  2016-02-08    05:46:00  11:00:00  \n1  2016-02-08    06:07:59  06:37:59  \n2  2016-02-08    06:49:27  07:19:27  \n3  2016-02-08    07:23:34  07:53:34  \n4  2016-02-08    07:39:07  08:09:07  ",
      "text/html": "<div>\n<style scoped>\n    .dataframe tbody tr th:only-of-type {\n        vertical-align: middle;\n    }\n\n    .dataframe tbody tr th {\n        vertical-align: top;\n    }\n\n    .dataframe thead th {\n        text-align: right;\n    }\n</style>\n<table border=\"1\" class=\"dataframe\">\n  <thead>\n    <tr style=\"text-align: right;\">\n      <th></th>\n      <th>ID</th>\n      <th>Source</th>\n      <th>Severity</th>\n      <th>Start_Time</th>\n      <th>End_Time</th>\n      <th>Start_Lat</th>\n      <th>Start_Lng</th>\n      <th>End_Lat</th>\n      <th>End_Lng</th>\n      <th>Distance(mi)</th>\n      <th>Description</th>\n      <th>Street</th>\n      <th>City</th>\n      <th>County</th>\n      <th>State</th>\n      <th>Zipcode</th>\n      <th>Country</th>\n      <th>Timezone</th>\n      <th>Airport_Code</th>\n      <th>Weather_Timestamp</th>\n      <th>Temperature(F)</th>\n      <th>Wind_Chill(F)</th>\n      <th>Humidity(%)</th>\n      <th>Pressure(in)</th>\n      <th>Visibility(mi)</th>\n      <th>Wind_Direction</th>\n      <th>Wind_Speed(mph)</th>\n      <th>Precipitation(in)</th>\n      <th>Weather_Condition</th>\n      <th>Amenity</th>\n      <th>Bump</th>\n      <th>Crossing</th>\n      <th>Give_Way</th>\n      <th>Junction</th>\n      <th>No_Exit</th>\n      <th>Railway</th>\n      <th>Roundabout</th>\n      <th>Station</th>\n      <th>Stop</th>\n      <th>Traffic_Calming</th>\n      <th>Traffic_Signal</th>\n      <th>Turning_Loop</th>\n      <th>Sunrise_Sunset</th>\n      <th>Civil_Twilight</th>\n      <th>Nautical_Twilight</th>\n      <th>Astronomical_Twilight</th>\n      <th>Start_Date</th>\n      <th>End_Date</th>\n      <th>Start_Time_</th>\n      <th>End_Time_</th>\n    </tr>\n  </thead>\n  <tbody>\n    <tr>\n      <th>0</th>\n      <td>A-1</td>\n      <td>Source2</td>\n      <td>3</td>\n      <td>2016-02-08 05:46:00</td>\n      <td>2016-02-08 11:00:00</td>\n      <td>39.865147</td>\n      <td>-84.058723</td>\n      <td>NaN</td>\n      <td>NaN</td>\n      <td>0.01</td>\n      <td>Right lane blocked due to accident on I-70 Eas...</td>\n      <td>I-70 E</td>\n      <td>Dayton</td>\n      <td>Montgomery</td>\n      <td>OH</td>\n      <td>45424</td>\n      <td>US</td>\n      <td>US/Eastern</td>\n      <td>KFFO</td>\n      <td>2016-02-08 05:58:00</td>\n      <td>36.9</td>\n      <td>NaN</td>\n      <td>91.0</td>\n      <td>29.68</td>\n      <td>10.0</td>\n      <td>Calm</td>\n      <td>NaN</td>\n      <td>0.02</td>\n      <td>Light Rain</td>\n      <td>False</td>\n      <td>False</td>\n      <td>False</td>\n      <td>False</td>\n      <td>False</td>\n      <td>False</td>\n      <td>False</td>\n      <td>False</td>\n      <td>False</td>\n      <td>False</td>\n      <td>False</td>\n      <td>False</td>\n      <td>False</td>\n      <td>Night</td>\n      <td>Night</td>\n      <td>Night</td>\n      <td>Night</td>\n      <td>2016-02-08</td>\n      <td>2016-02-08</td>\n      <td>05:46:00</td>\n      <td>11:00:00</td>\n    </tr>\n    <tr>\n      <th>1</th>\n      <td>A-2</td>\n      <td>Source2</td>\n      <td>2</td>\n      <td>2016-02-08 06:07:59</td>\n      <td>2016-02-08 06:37:59</td>\n      <td>39.928059</td>\n      <td>-82.831184</td>\n      <td>NaN</td>\n      <td>NaN</td>\n      <td>0.01</td>\n      <td>Accident on Brice Rd at Tussing Rd. Expect del...</td>\n      <td>Brice Rd</td>\n      <td>Reynoldsburg</td>\n      <td>Franklin</td>\n      <td>OH</td>\n      <td>43068-3402</td>\n      <td>US</td>\n      <td>US/Eastern</td>\n      <td>KCMH</td>\n      <td>2016-02-08 05:51:00</td>\n      <td>37.9</td>\n      <td>NaN</td>\n      <td>100.0</td>\n      <td>29.65</td>\n      <td>10.0</td>\n      <td>Calm</td>\n      <td>NaN</td>\n      <td>0.00</td>\n      <td>Light Rain</td>\n      <td>False</td>\n      <td>False</td>\n      <td>False</td>\n      <td>False</td>\n      <td>False</td>\n      <td>False</td>\n      <td>False</td>\n      <td>False</td>\n      <td>False</td>\n      <td>False</td>\n      <td>False</td>\n      <td>False</td>\n      <td>False</td>\n      <td>Night</td>\n      <td>Night</td>\n      <td>Night</td>\n      <td>Day</td>\n      <td>2016-02-08</td>\n      <td>2016-02-08</td>\n      <td>06:07:59</td>\n      <td>06:37:59</td>\n    </tr>\n    <tr>\n      <th>2</th>\n      <td>A-3</td>\n      <td>Source2</td>\n      <td>2</td>\n      <td>2016-02-08 06:49:27</td>\n      <td>2016-02-08 07:19:27</td>\n      <td>39.063148</td>\n      <td>-84.032608</td>\n      <td>NaN</td>\n      <td>NaN</td>\n      <td>0.01</td>\n      <td>Accident on OH-32 State Route 32 Westbound at ...</td>\n      <td>State Route 32</td>\n      <td>Williamsburg</td>\n      <td>Clermont</td>\n      <td>OH</td>\n      <td>45176</td>\n      <td>US</td>\n      <td>US/Eastern</td>\n      <td>KI69</td>\n      <td>2016-02-08 06:56:00</td>\n      <td>36.0</td>\n      <td>33.3</td>\n      <td>100.0</td>\n      <td>29.67</td>\n      <td>10.0</td>\n      <td>SW</td>\n      <td>3.5</td>\n      <td>NaN</td>\n      <td>Overcast</td>\n      <td>False</td>\n      <td>False</td>\n      <td>False</td>\n      <td>False</td>\n      <td>False</td>\n      <td>False</td>\n      <td>False</td>\n      <td>False</td>\n      <td>False</td>\n      <td>False</td>\n      <td>False</td>\n      <td>True</td>\n      <td>False</td>\n      <td>Night</td>\n      <td>Night</td>\n      <td>Day</td>\n      <td>Day</td>\n      <td>2016-02-08</td>\n      <td>2016-02-08</td>\n      <td>06:49:27</td>\n      <td>07:19:27</td>\n    </tr>\n    <tr>\n      <th>3</th>\n      <td>A-4</td>\n      <td>Source2</td>\n      <td>3</td>\n      <td>2016-02-08 07:23:34</td>\n      <td>2016-02-08 07:53:34</td>\n      <td>39.747753</td>\n      <td>-84.205582</td>\n      <td>NaN</td>\n      <td>NaN</td>\n      <td>0.01</td>\n      <td>Accident on I-75 Southbound at Exits 52 52B US...</td>\n      <td>I-75 S</td>\n      <td>Dayton</td>\n      <td>Montgomery</td>\n      <td>OH</td>\n      <td>45417</td>\n      <td>US</td>\n      <td>US/Eastern</td>\n      <td>KDAY</td>\n      <td>2016-02-08 07:38:00</td>\n      <td>35.1</td>\n      <td>31.0</td>\n      <td>96.0</td>\n      <td>29.64</td>\n      <td>9.0</td>\n      <td>SW</td>\n      <td>4.6</td>\n      <td>NaN</td>\n      <td>Mostly Cloudy</td>\n      <td>False</td>\n      <td>False</td>\n      <td>False</td>\n      <td>False</td>\n      <td>False</td>\n      <td>False</td>\n      <td>False</td>\n      <td>False</td>\n      <td>False</td>\n      <td>False</td>\n      <td>False</td>\n      <td>False</td>\n      <td>False</td>\n      <td>Night</td>\n      <td>Day</td>\n      <td>Day</td>\n      <td>Day</td>\n      <td>2016-02-08</td>\n      <td>2016-02-08</td>\n      <td>07:23:34</td>\n      <td>07:53:34</td>\n    </tr>\n    <tr>\n      <th>4</th>\n      <td>A-5</td>\n      <td>Source2</td>\n      <td>2</td>\n      <td>2016-02-08 07:39:07</td>\n      <td>2016-02-08 08:09:07</td>\n      <td>39.627781</td>\n      <td>-84.188354</td>\n      <td>NaN</td>\n      <td>NaN</td>\n      <td>0.01</td>\n      <td>Accident on McEwen Rd at OH-725 Miamisburg Cen...</td>\n      <td>Miamisburg Centerville Rd</td>\n      <td>Dayton</td>\n      <td>Montgomery</td>\n      <td>OH</td>\n      <td>45459</td>\n      <td>US</td>\n      <td>US/Eastern</td>\n      <td>KMGY</td>\n      <td>2016-02-08 07:53:00</td>\n      <td>36.0</td>\n      <td>33.3</td>\n      <td>89.0</td>\n      <td>29.65</td>\n      <td>6.0</td>\n      <td>SW</td>\n      <td>3.5</td>\n      <td>NaN</td>\n      <td>Mostly Cloudy</td>\n      <td>False</td>\n      <td>False</td>\n      <td>False</td>\n      <td>False</td>\n      <td>False</td>\n      <td>False</td>\n      <td>False</td>\n      <td>False</td>\n      <td>False</td>\n      <td>False</td>\n      <td>False</td>\n      <td>True</td>\n      <td>False</td>\n      <td>Day</td>\n      <td>Day</td>\n      <td>Day</td>\n      <td>Day</td>\n      <td>2016-02-08</td>\n      <td>2016-02-08</td>\n      <td>07:39:07</td>\n      <td>08:09:07</td>\n    </tr>\n  </tbody>\n</table>\n</div>"
     },
     "execution_count": 7,
     "metadata": {},
     "output_type": "execute_result"
    }
   ],
   "source": [
    "pd.set_option('display.max_columns', None)\n",
    "dn.head()"
   ]
  },
  {
   "cell_type": "code",
   "execution_count": 8,
   "metadata": {
    "ExecuteTime": {
     "end_time": "2024-04-02T22:01:02.095704100Z",
     "start_time": "2024-04-02T22:00:55.807545600Z"
    }
   },
   "outputs": [
    {
     "data": {
      "text/plain": "    ID   Source  Severity  Start_Lat  Start_Lng  End_Lat  End_Lng  \\\n0  A-1  Source2         3  39.865147 -84.058723      NaN      NaN   \n1  A-2  Source2         2  39.928059 -82.831184      NaN      NaN   \n2  A-3  Source2         2  39.063148 -84.032608      NaN      NaN   \n3  A-4  Source2         3  39.747753 -84.205582      NaN      NaN   \n4  A-5  Source2         2  39.627781 -84.188354      NaN      NaN   \n\n   Distance(mi)                                        Description  \\\n0          0.01  Right lane blocked due to accident on I-70 Eas...   \n1          0.01  Accident on Brice Rd at Tussing Rd. Expect del...   \n2          0.01  Accident on OH-32 State Route 32 Westbound at ...   \n3          0.01  Accident on I-75 Southbound at Exits 52 52B US...   \n4          0.01  Accident on McEwen Rd at OH-725 Miamisburg Cen...   \n\n                      Street          City      County State     Zipcode  \\\n0                     I-70 E        Dayton  Montgomery    OH       45424   \n1                   Brice Rd  Reynoldsburg    Franklin    OH  43068-3402   \n2             State Route 32  Williamsburg    Clermont    OH       45176   \n3                     I-75 S        Dayton  Montgomery    OH       45417   \n4  Miamisburg Centerville Rd        Dayton  Montgomery    OH       45459   \n\n  Country    Timezone Airport_Code    Weather_Timestamp  Temperature(F)  \\\n0      US  US/Eastern         KFFO  2016-02-08 05:58:00            36.9   \n1      US  US/Eastern         KCMH  2016-02-08 05:51:00            37.9   \n2      US  US/Eastern         KI69  2016-02-08 06:56:00            36.0   \n3      US  US/Eastern         KDAY  2016-02-08 07:38:00            35.1   \n4      US  US/Eastern         KMGY  2016-02-08 07:53:00            36.0   \n\n   Wind_Chill(F)  Humidity(%)  Pressure(in)  Visibility(mi) Wind_Direction  \\\n0            NaN         91.0         29.68            10.0           Calm   \n1            NaN        100.0         29.65            10.0           Calm   \n2           33.3        100.0         29.67            10.0             SW   \n3           31.0         96.0         29.64             9.0             SW   \n4           33.3         89.0         29.65             6.0             SW   \n\n   Wind_Speed(mph)  Precipitation(in) Weather_Condition  Amenity   Bump  \\\n0              NaN               0.02        Light Rain    False  False   \n1              NaN               0.00        Light Rain    False  False   \n2              3.5                NaN          Overcast    False  False   \n3              4.6                NaN     Mostly Cloudy    False  False   \n4              3.5                NaN     Mostly Cloudy    False  False   \n\n   Crossing  Give_Way  Junction  No_Exit  Railway  Roundabout  Station   Stop  \\\n0     False     False     False    False    False       False    False  False   \n1     False     False     False    False    False       False    False  False   \n2     False     False     False    False    False       False    False  False   \n3     False     False     False    False    False       False    False  False   \n4     False     False     False    False    False       False    False  False   \n\n   Traffic_Calming  Traffic_Signal  Turning_Loop Sunrise_Sunset  \\\n0            False           False         False          Night   \n1            False           False         False          Night   \n2            False            True         False          Night   \n3            False           False         False          Night   \n4            False            True         False            Day   \n\n  Civil_Twilight Nautical_Twilight Astronomical_Twilight  Start_Date  \\\n0          Night             Night                 Night  2016-02-08   \n1          Night             Night                   Day  2016-02-08   \n2          Night               Day                   Day  2016-02-08   \n3            Day               Day                   Day  2016-02-08   \n4            Day               Day                   Day  2016-02-08   \n\n     End_Date Start_Time  End_Time  \n0  2016-02-08   05:46:00  11:00:00  \n1  2016-02-08   06:07:59  06:37:59  \n2  2016-02-08   06:49:27  07:19:27  \n3  2016-02-08   07:23:34  07:53:34  \n4  2016-02-08   07:39:07  08:09:07  ",
      "text/html": "<div>\n<style scoped>\n    .dataframe tbody tr th:only-of-type {\n        vertical-align: middle;\n    }\n\n    .dataframe tbody tr th {\n        vertical-align: top;\n    }\n\n    .dataframe thead th {\n        text-align: right;\n    }\n</style>\n<table border=\"1\" class=\"dataframe\">\n  <thead>\n    <tr style=\"text-align: right;\">\n      <th></th>\n      <th>ID</th>\n      <th>Source</th>\n      <th>Severity</th>\n      <th>Start_Lat</th>\n      <th>Start_Lng</th>\n      <th>End_Lat</th>\n      <th>End_Lng</th>\n      <th>Distance(mi)</th>\n      <th>Description</th>\n      <th>Street</th>\n      <th>City</th>\n      <th>County</th>\n      <th>State</th>\n      <th>Zipcode</th>\n      <th>Country</th>\n      <th>Timezone</th>\n      <th>Airport_Code</th>\n      <th>Weather_Timestamp</th>\n      <th>Temperature(F)</th>\n      <th>Wind_Chill(F)</th>\n      <th>Humidity(%)</th>\n      <th>Pressure(in)</th>\n      <th>Visibility(mi)</th>\n      <th>Wind_Direction</th>\n      <th>Wind_Speed(mph)</th>\n      <th>Precipitation(in)</th>\n      <th>Weather_Condition</th>\n      <th>Amenity</th>\n      <th>Bump</th>\n      <th>Crossing</th>\n      <th>Give_Way</th>\n      <th>Junction</th>\n      <th>No_Exit</th>\n      <th>Railway</th>\n      <th>Roundabout</th>\n      <th>Station</th>\n      <th>Stop</th>\n      <th>Traffic_Calming</th>\n      <th>Traffic_Signal</th>\n      <th>Turning_Loop</th>\n      <th>Sunrise_Sunset</th>\n      <th>Civil_Twilight</th>\n      <th>Nautical_Twilight</th>\n      <th>Astronomical_Twilight</th>\n      <th>Start_Date</th>\n      <th>End_Date</th>\n      <th>Start_Time</th>\n      <th>End_Time</th>\n    </tr>\n  </thead>\n  <tbody>\n    <tr>\n      <th>0</th>\n      <td>A-1</td>\n      <td>Source2</td>\n      <td>3</td>\n      <td>39.865147</td>\n      <td>-84.058723</td>\n      <td>NaN</td>\n      <td>NaN</td>\n      <td>0.01</td>\n      <td>Right lane blocked due to accident on I-70 Eas...</td>\n      <td>I-70 E</td>\n      <td>Dayton</td>\n      <td>Montgomery</td>\n      <td>OH</td>\n      <td>45424</td>\n      <td>US</td>\n      <td>US/Eastern</td>\n      <td>KFFO</td>\n      <td>2016-02-08 05:58:00</td>\n      <td>36.9</td>\n      <td>NaN</td>\n      <td>91.0</td>\n      <td>29.68</td>\n      <td>10.0</td>\n      <td>Calm</td>\n      <td>NaN</td>\n      <td>0.02</td>\n      <td>Light Rain</td>\n      <td>False</td>\n      <td>False</td>\n      <td>False</td>\n      <td>False</td>\n      <td>False</td>\n      <td>False</td>\n      <td>False</td>\n      <td>False</td>\n      <td>False</td>\n      <td>False</td>\n      <td>False</td>\n      <td>False</td>\n      <td>False</td>\n      <td>Night</td>\n      <td>Night</td>\n      <td>Night</td>\n      <td>Night</td>\n      <td>2016-02-08</td>\n      <td>2016-02-08</td>\n      <td>05:46:00</td>\n      <td>11:00:00</td>\n    </tr>\n    <tr>\n      <th>1</th>\n      <td>A-2</td>\n      <td>Source2</td>\n      <td>2</td>\n      <td>39.928059</td>\n      <td>-82.831184</td>\n      <td>NaN</td>\n      <td>NaN</td>\n      <td>0.01</td>\n      <td>Accident on Brice Rd at Tussing Rd. Expect del...</td>\n      <td>Brice Rd</td>\n      <td>Reynoldsburg</td>\n      <td>Franklin</td>\n      <td>OH</td>\n      <td>43068-3402</td>\n      <td>US</td>\n      <td>US/Eastern</td>\n      <td>KCMH</td>\n      <td>2016-02-08 05:51:00</td>\n      <td>37.9</td>\n      <td>NaN</td>\n      <td>100.0</td>\n      <td>29.65</td>\n      <td>10.0</td>\n      <td>Calm</td>\n      <td>NaN</td>\n      <td>0.00</td>\n      <td>Light Rain</td>\n      <td>False</td>\n      <td>False</td>\n      <td>False</td>\n      <td>False</td>\n      <td>False</td>\n      <td>False</td>\n      <td>False</td>\n      <td>False</td>\n      <td>False</td>\n      <td>False</td>\n      <td>False</td>\n      <td>False</td>\n      <td>False</td>\n      <td>Night</td>\n      <td>Night</td>\n      <td>Night</td>\n      <td>Day</td>\n      <td>2016-02-08</td>\n      <td>2016-02-08</td>\n      <td>06:07:59</td>\n      <td>06:37:59</td>\n    </tr>\n    <tr>\n      <th>2</th>\n      <td>A-3</td>\n      <td>Source2</td>\n      <td>2</td>\n      <td>39.063148</td>\n      <td>-84.032608</td>\n      <td>NaN</td>\n      <td>NaN</td>\n      <td>0.01</td>\n      <td>Accident on OH-32 State Route 32 Westbound at ...</td>\n      <td>State Route 32</td>\n      <td>Williamsburg</td>\n      <td>Clermont</td>\n      <td>OH</td>\n      <td>45176</td>\n      <td>US</td>\n      <td>US/Eastern</td>\n      <td>KI69</td>\n      <td>2016-02-08 06:56:00</td>\n      <td>36.0</td>\n      <td>33.3</td>\n      <td>100.0</td>\n      <td>29.67</td>\n      <td>10.0</td>\n      <td>SW</td>\n      <td>3.5</td>\n      <td>NaN</td>\n      <td>Overcast</td>\n      <td>False</td>\n      <td>False</td>\n      <td>False</td>\n      <td>False</td>\n      <td>False</td>\n      <td>False</td>\n      <td>False</td>\n      <td>False</td>\n      <td>False</td>\n      <td>False</td>\n      <td>False</td>\n      <td>True</td>\n      <td>False</td>\n      <td>Night</td>\n      <td>Night</td>\n      <td>Day</td>\n      <td>Day</td>\n      <td>2016-02-08</td>\n      <td>2016-02-08</td>\n      <td>06:49:27</td>\n      <td>07:19:27</td>\n    </tr>\n    <tr>\n      <th>3</th>\n      <td>A-4</td>\n      <td>Source2</td>\n      <td>3</td>\n      <td>39.747753</td>\n      <td>-84.205582</td>\n      <td>NaN</td>\n      <td>NaN</td>\n      <td>0.01</td>\n      <td>Accident on I-75 Southbound at Exits 52 52B US...</td>\n      <td>I-75 S</td>\n      <td>Dayton</td>\n      <td>Montgomery</td>\n      <td>OH</td>\n      <td>45417</td>\n      <td>US</td>\n      <td>US/Eastern</td>\n      <td>KDAY</td>\n      <td>2016-02-08 07:38:00</td>\n      <td>35.1</td>\n      <td>31.0</td>\n      <td>96.0</td>\n      <td>29.64</td>\n      <td>9.0</td>\n      <td>SW</td>\n      <td>4.6</td>\n      <td>NaN</td>\n      <td>Mostly Cloudy</td>\n      <td>False</td>\n      <td>False</td>\n      <td>False</td>\n      <td>False</td>\n      <td>False</td>\n      <td>False</td>\n      <td>False</td>\n      <td>False</td>\n      <td>False</td>\n      <td>False</td>\n      <td>False</td>\n      <td>False</td>\n      <td>False</td>\n      <td>Night</td>\n      <td>Day</td>\n      <td>Day</td>\n      <td>Day</td>\n      <td>2016-02-08</td>\n      <td>2016-02-08</td>\n      <td>07:23:34</td>\n      <td>07:53:34</td>\n    </tr>\n    <tr>\n      <th>4</th>\n      <td>A-5</td>\n      <td>Source2</td>\n      <td>2</td>\n      <td>39.627781</td>\n      <td>-84.188354</td>\n      <td>NaN</td>\n      <td>NaN</td>\n      <td>0.01</td>\n      <td>Accident on McEwen Rd at OH-725 Miamisburg Cen...</td>\n      <td>Miamisburg Centerville Rd</td>\n      <td>Dayton</td>\n      <td>Montgomery</td>\n      <td>OH</td>\n      <td>45459</td>\n      <td>US</td>\n      <td>US/Eastern</td>\n      <td>KMGY</td>\n      <td>2016-02-08 07:53:00</td>\n      <td>36.0</td>\n      <td>33.3</td>\n      <td>89.0</td>\n      <td>29.65</td>\n      <td>6.0</td>\n      <td>SW</td>\n      <td>3.5</td>\n      <td>NaN</td>\n      <td>Mostly Cloudy</td>\n      <td>False</td>\n      <td>False</td>\n      <td>False</td>\n      <td>False</td>\n      <td>False</td>\n      <td>False</td>\n      <td>False</td>\n      <td>False</td>\n      <td>False</td>\n      <td>False</td>\n      <td>False</td>\n      <td>True</td>\n      <td>False</td>\n      <td>Day</td>\n      <td>Day</td>\n      <td>Day</td>\n      <td>Day</td>\n      <td>2016-02-08</td>\n      <td>2016-02-08</td>\n      <td>07:39:07</td>\n      <td>08:09:07</td>\n    </tr>\n  </tbody>\n</table>\n</div>"
     },
     "execution_count": 8,
     "metadata": {},
     "output_type": "execute_result"
    }
   ],
   "source": [
    "dn.drop(['Start_Time', 'End_Time'], axis=1, inplace=True)\n",
    "\n",
    "dn.rename(columns={'Start_Time_': 'Start_Time', 'End_Time_': 'End_Time'}, inplace=True)\n",
    "\n",
    "pd.set_option('display.max_columns', None)\n",
    "dn.head()\n"
   ]
  },
  {
   "cell_type": "code",
   "execution_count": 9,
   "metadata": {
    "ExecuteTime": {
     "end_time": "2024-04-02T22:01:02.116529800Z",
     "start_time": "2024-04-02T22:01:02.095704100Z"
    }
   },
   "outputs": [],
   "source": [
    "Selected_columns=[\"ID\",\"Severity\",\"Distance(mi)\",\"Street\",\"City\",\"County\",\"State\",\"Zipcode\",\"Country\",\"Timezone\",\"Wind_Direction\",\"Weather_Condition\",\"Amenity\",\"Bump\",\"Crossing\",\"Give_Way\",\"Junction\",\"No_Exit\",\"Railway\",\"Roundabout\",\"Station\",\"Stop\",\"Traffic_Calming\",\"Traffic_Signal\",\"Turning_Loop\",\"Sunrise_Sunset\",\"Start_Date\", \"End_Date\", \"Start_Time\",\"End_Time\"]"
   ]
  },
  {
   "cell_type": "code",
   "execution_count": 10,
   "metadata": {
    "ExecuteTime": {
     "end_time": "2024-04-02T22:01:05.160346500Z",
     "start_time": "2024-04-02T22:01:02.116529800Z"
    }
   },
   "outputs": [
    {
     "data": {
      "text/plain": "    ID  Severity  Distance(mi)                     Street          City  \\\n0  A-1         3          0.01                     I-70 E        Dayton   \n1  A-2         2          0.01                   Brice Rd  Reynoldsburg   \n2  A-3         2          0.01             State Route 32  Williamsburg   \n3  A-4         3          0.01                     I-75 S        Dayton   \n4  A-5         2          0.01  Miamisburg Centerville Rd        Dayton   \n\n       County State     Zipcode Country    Timezone Wind_Direction  \\\n0  Montgomery    OH       45424      US  US/Eastern           Calm   \n1    Franklin    OH  43068-3402      US  US/Eastern           Calm   \n2    Clermont    OH       45176      US  US/Eastern             SW   \n3  Montgomery    OH       45417      US  US/Eastern             SW   \n4  Montgomery    OH       45459      US  US/Eastern             SW   \n\n  Weather_Condition  Amenity   Bump  Crossing  Give_Way  Junction  No_Exit  \\\n0        Light Rain    False  False     False     False     False    False   \n1        Light Rain    False  False     False     False     False    False   \n2          Overcast    False  False     False     False     False    False   \n3     Mostly Cloudy    False  False     False     False     False    False   \n4     Mostly Cloudy    False  False     False     False     False    False   \n\n   Railway  Roundabout  Station   Stop  Traffic_Calming  Traffic_Signal  \\\n0    False       False    False  False            False           False   \n1    False       False    False  False            False           False   \n2    False       False    False  False            False            True   \n3    False       False    False  False            False           False   \n4    False       False    False  False            False            True   \n\n   Turning_Loop Sunrise_Sunset  Start_Date    End_Date Start_Time  End_Time  \n0         False          Night  2016-02-08  2016-02-08   05:46:00  11:00:00  \n1         False          Night  2016-02-08  2016-02-08   06:07:59  06:37:59  \n2         False          Night  2016-02-08  2016-02-08   06:49:27  07:19:27  \n3         False          Night  2016-02-08  2016-02-08   07:23:34  07:53:34  \n4         False            Day  2016-02-08  2016-02-08   07:39:07  08:09:07  ",
      "text/html": "<div>\n<style scoped>\n    .dataframe tbody tr th:only-of-type {\n        vertical-align: middle;\n    }\n\n    .dataframe tbody tr th {\n        vertical-align: top;\n    }\n\n    .dataframe thead th {\n        text-align: right;\n    }\n</style>\n<table border=\"1\" class=\"dataframe\">\n  <thead>\n    <tr style=\"text-align: right;\">\n      <th></th>\n      <th>ID</th>\n      <th>Severity</th>\n      <th>Distance(mi)</th>\n      <th>Street</th>\n      <th>City</th>\n      <th>County</th>\n      <th>State</th>\n      <th>Zipcode</th>\n      <th>Country</th>\n      <th>Timezone</th>\n      <th>Wind_Direction</th>\n      <th>Weather_Condition</th>\n      <th>Amenity</th>\n      <th>Bump</th>\n      <th>Crossing</th>\n      <th>Give_Way</th>\n      <th>Junction</th>\n      <th>No_Exit</th>\n      <th>Railway</th>\n      <th>Roundabout</th>\n      <th>Station</th>\n      <th>Stop</th>\n      <th>Traffic_Calming</th>\n      <th>Traffic_Signal</th>\n      <th>Turning_Loop</th>\n      <th>Sunrise_Sunset</th>\n      <th>Start_Date</th>\n      <th>End_Date</th>\n      <th>Start_Time</th>\n      <th>End_Time</th>\n    </tr>\n  </thead>\n  <tbody>\n    <tr>\n      <th>0</th>\n      <td>A-1</td>\n      <td>3</td>\n      <td>0.01</td>\n      <td>I-70 E</td>\n      <td>Dayton</td>\n      <td>Montgomery</td>\n      <td>OH</td>\n      <td>45424</td>\n      <td>US</td>\n      <td>US/Eastern</td>\n      <td>Calm</td>\n      <td>Light Rain</td>\n      <td>False</td>\n      <td>False</td>\n      <td>False</td>\n      <td>False</td>\n      <td>False</td>\n      <td>False</td>\n      <td>False</td>\n      <td>False</td>\n      <td>False</td>\n      <td>False</td>\n      <td>False</td>\n      <td>False</td>\n      <td>False</td>\n      <td>Night</td>\n      <td>2016-02-08</td>\n      <td>2016-02-08</td>\n      <td>05:46:00</td>\n      <td>11:00:00</td>\n    </tr>\n    <tr>\n      <th>1</th>\n      <td>A-2</td>\n      <td>2</td>\n      <td>0.01</td>\n      <td>Brice Rd</td>\n      <td>Reynoldsburg</td>\n      <td>Franklin</td>\n      <td>OH</td>\n      <td>43068-3402</td>\n      <td>US</td>\n      <td>US/Eastern</td>\n      <td>Calm</td>\n      <td>Light Rain</td>\n      <td>False</td>\n      <td>False</td>\n      <td>False</td>\n      <td>False</td>\n      <td>False</td>\n      <td>False</td>\n      <td>False</td>\n      <td>False</td>\n      <td>False</td>\n      <td>False</td>\n      <td>False</td>\n      <td>False</td>\n      <td>False</td>\n      <td>Night</td>\n      <td>2016-02-08</td>\n      <td>2016-02-08</td>\n      <td>06:07:59</td>\n      <td>06:37:59</td>\n    </tr>\n    <tr>\n      <th>2</th>\n      <td>A-3</td>\n      <td>2</td>\n      <td>0.01</td>\n      <td>State Route 32</td>\n      <td>Williamsburg</td>\n      <td>Clermont</td>\n      <td>OH</td>\n      <td>45176</td>\n      <td>US</td>\n      <td>US/Eastern</td>\n      <td>SW</td>\n      <td>Overcast</td>\n      <td>False</td>\n      <td>False</td>\n      <td>False</td>\n      <td>False</td>\n      <td>False</td>\n      <td>False</td>\n      <td>False</td>\n      <td>False</td>\n      <td>False</td>\n      <td>False</td>\n      <td>False</td>\n      <td>True</td>\n      <td>False</td>\n      <td>Night</td>\n      <td>2016-02-08</td>\n      <td>2016-02-08</td>\n      <td>06:49:27</td>\n      <td>07:19:27</td>\n    </tr>\n    <tr>\n      <th>3</th>\n      <td>A-4</td>\n      <td>3</td>\n      <td>0.01</td>\n      <td>I-75 S</td>\n      <td>Dayton</td>\n      <td>Montgomery</td>\n      <td>OH</td>\n      <td>45417</td>\n      <td>US</td>\n      <td>US/Eastern</td>\n      <td>SW</td>\n      <td>Mostly Cloudy</td>\n      <td>False</td>\n      <td>False</td>\n      <td>False</td>\n      <td>False</td>\n      <td>False</td>\n      <td>False</td>\n      <td>False</td>\n      <td>False</td>\n      <td>False</td>\n      <td>False</td>\n      <td>False</td>\n      <td>False</td>\n      <td>False</td>\n      <td>Night</td>\n      <td>2016-02-08</td>\n      <td>2016-02-08</td>\n      <td>07:23:34</td>\n      <td>07:53:34</td>\n    </tr>\n    <tr>\n      <th>4</th>\n      <td>A-5</td>\n      <td>2</td>\n      <td>0.01</td>\n      <td>Miamisburg Centerville Rd</td>\n      <td>Dayton</td>\n      <td>Montgomery</td>\n      <td>OH</td>\n      <td>45459</td>\n      <td>US</td>\n      <td>US/Eastern</td>\n      <td>SW</td>\n      <td>Mostly Cloudy</td>\n      <td>False</td>\n      <td>False</td>\n      <td>False</td>\n      <td>False</td>\n      <td>False</td>\n      <td>False</td>\n      <td>False</td>\n      <td>False</td>\n      <td>False</td>\n      <td>False</td>\n      <td>False</td>\n      <td>True</td>\n      <td>False</td>\n      <td>Day</td>\n      <td>2016-02-08</td>\n      <td>2016-02-08</td>\n      <td>07:39:07</td>\n      <td>08:09:07</td>\n    </tr>\n  </tbody>\n</table>\n</div>"
     },
     "execution_count": 10,
     "metadata": {},
     "output_type": "execute_result"
    }
   ],
   "source": [
    "dn_new=dn[Selected_columns]\n",
    "dn_new.head()"
   ]
  },
  {
   "cell_type": "code",
   "execution_count": 11,
   "metadata": {
    "ExecuteTime": {
     "end_time": "2024-04-02T22:01:10.317205200Z",
     "start_time": "2024-04-02T22:01:05.014706Z"
    }
   },
   "outputs": [
    {
     "name": "stdout",
     "output_type": "stream",
     "text": [
      "Number of null values in column 'Wind_Direction': 175206\n",
      "Mode of column 'Wind_Direction': CALM\n",
      "All null values in the Wind_Direction column have been replaced\n",
      "Number of null values in column 'Weather_Condition': 173459\n",
      "Mode of column 'Weather_Condition': Fair\n",
      "All null values in the Weather_Condition column have been replaced\n"
     ]
    }
   ],
   "source": [
    "# List of columns to process\n",
    "columns_to_process = [ 'Wind_Direction', 'Weather_Condition']\n",
    "\n",
    "# Iterate through each column in the list\n",
    "for col in columns_to_process:\n",
    "    # Count the number of null values in the current column\n",
    "    null_count = dn_new[col].isnull().sum()\n",
    "    print(f\"Number of null values in column '{col}':\", null_count)\n",
    "    \n",
    "    # Calculate the mode for the current column\n",
    "    mode_value = dn_new[col].mode()[0]\n",
    "    print(f\"Mode of column '{col}':\", mode_value)\n",
    "    \n",
    "    # Replace null values with the mode for the current column using .loc[]\n",
    "    dn_new.loc[dn_new[col].isnull(), col] = mode_value\n",
    "    \n",
    "    # Check if there are any null values after replacement\n",
    "    null_in_column = dn_new[col].isnull().any()\n",
    "    if null_in_column:\n",
    "        print(f\"There are still null values in the {col} column'\")\n",
    "    else:\n",
    "        print(f\"All null values in the {col} column have been replaced\")"
   ]
  },
  {
   "cell_type": "code",
   "execution_count": 12,
   "metadata": {
    "ExecuteTime": {
     "end_time": "2024-04-02T22:01:19.405777300Z",
     "start_time": "2024-04-02T22:01:09.145743300Z"
    }
   },
   "outputs": [
    {
     "name": "stdout",
     "output_type": "stream",
     "text": [
      "Columns with null values:\n",
      "                            Street          City     Zipcode    Timezone  \\\n",
      "0                           I-70 E        Dayton       45424  US/Eastern   \n",
      "1                         Brice Rd  Reynoldsburg  43068-3402  US/Eastern   \n",
      "2                   State Route 32  Williamsburg       45176  US/Eastern   \n",
      "3                           I-75 S        Dayton       45417  US/Eastern   \n",
      "4        Miamisburg Centerville Rd        Dayton       45459  US/Eastern   \n",
      "...                            ...           ...         ...         ...   \n",
      "7728389               Pomona Fwy E     Riverside       92501  US/Pacific   \n",
      "7728390                      I-8 W     San Diego       92108  US/Pacific   \n",
      "7728391           Garden Grove Fwy        Orange       92866  US/Pacific   \n",
      "7728392            San Diego Fwy S   Culver City       90230  US/Pacific   \n",
      "7728393                   CA-210 W      Highland       92346  US/Pacific   \n",
      "\n",
      "        Sunrise_Sunset  \n",
      "0                Night  \n",
      "1                Night  \n",
      "2                Night  \n",
      "3                Night  \n",
      "4                  Day  \n",
      "...                ...  \n",
      "7728389            Day  \n",
      "7728390            Day  \n",
      "7728391            Day  \n",
      "7728392            Day  \n",
      "7728393            Day  \n",
      "\n",
      "[7728394 rows x 5 columns]\n"
     ]
    }
   ],
   "source": [
    "# Find columns with null values\n",
    "columns_with_null = dn_new.columns[dn_new.isnull().any()]\n",
    "\n",
    "# Select only columns with null values\n",
    "dn_new_null_columns = dn_new[columns_with_null]\n",
    "\n",
    "# Calculate total number of records with null values and percentage\n",
    "total_records = len(dn_new)\n",
    "null_counts = dn_new_null_columns.isnull().sum()\n",
    "null_percentage = (null_counts / total_records) * 100\n",
    "\n",
    "# Display the results\n",
    "print(\"Columns with null values:\")\n",
    "print(dn_new_null_columns)\n"
   ]
  },
  {
   "cell_type": "code",
   "execution_count": 13,
   "metadata": {
    "ExecuteTime": {
     "end_time": "2024-04-02T22:01:29.696924700Z",
     "start_time": "2024-04-02T22:01:19.405777300Z"
    }
   },
   "outputs": [
    {
     "name": "stdout",
     "output_type": "stream",
     "text": [
      "   Wind_Direction    count\n",
      "0            CALM  1330181\n",
      "1               E   382459\n",
      "2             ENE   258474\n",
      "3             ESE   268311\n",
      "4               N   460536\n",
      "5              NE   258639\n",
      "6             NNE   255311\n",
      "7             NNW   333427\n",
      "8              NW   369352\n",
      "9               S   597364\n",
      "10             SE   294901\n",
      "11            SSE   349110\n",
      "12            SSW   384840\n",
      "13             SW   364470\n",
      "14            VAR   364562\n",
      "15              W   548664\n",
      "16            WNW   378781\n",
      "17            WSW   353806\n",
      "Distinct Wind Direction Categories: 18\n"
     ]
    }
   ],
   "source": [
    "\n",
    "# Convert \"Wind_Direction\" to uppercase\n",
    "dn['Wind_Direction'] = dn['Wind_Direction'].str.upper()\n",
    "\n",
    "# Replace \"VARIABLE\" with \"VAR\"\n",
    "dn['Wind_Direction'] = dn['Wind_Direction'].replace(\"VARIABLE\", \"VAR\")\n",
    "\n",
    "# Consolidate directional redundancies using a mapping\n",
    "directions_mapping = {\n",
    "    \"EAST\": \"E\",\n",
    "    \"WEST\": \"W\",\n",
    "    \"NORTH\": \"N\",\n",
    "    \"SOUTH\": \"S\",\n",
    "    \"NORTHEAST\": \"NE\",\n",
    "    \"NORTHWEST\": \"NW\",\n",
    "    \"SOUTHEAST\": \"SE\",\n",
    "    \"SOUTHWEST\": \"SW\"\n",
    "}\n",
    "\n",
    "dn['Wind_Direction'] = dn['Wind_Direction'].map(directions_mapping).fillna(dn['Wind_Direction'])\n",
    "\n",
    "# After consolidation, re-group and count to see the updated distributions\n",
    "value_counts_weather_direction = dn['Wind_Direction'].value_counts().sort_index().reset_index()\n",
    "value_counts_weather_direction.columns = ['Wind_Direction', 'count']\n",
    "\n",
    "# Show the consolidated data\n",
    "print(value_counts_weather_direction)\n",
    "\n",
    "# Optionally, count the distinct number of wind direction categories after consolidation\n",
    "print(\"Distinct Wind Direction Categories:\", dn['Wind_Direction'].nunique())\n"
   ]
  },
  {
   "cell_type": "code",
   "execution_count": 14,
   "metadata": {
    "ExecuteTime": {
     "end_time": "2024-04-02T22:01:32.622561600Z",
     "start_time": "2024-04-02T22:01:29.696924700Z"
    }
   },
   "outputs": [
    {
     "name": "stdout",
     "output_type": "stream",
     "text": [
      "           Weather_Condition  count\n",
      "0               Blowing Dust    189\n",
      "1       Blowing Dust / Windy    266\n",
      "2               Blowing Sand      2\n",
      "3               Blowing Snow    740\n",
      "4       Blowing Snow / Windy    925\n",
      "..                       ...    ...\n",
      "139             Volcanic Ash     22\n",
      "140          Widespread Dust    181\n",
      "141  Widespread Dust / Windy     24\n",
      "142               Wintry Mix  11703\n",
      "143       Wintry Mix / Windy    331\n",
      "\n",
      "[144 rows x 2 columns]\n",
      "Distinct Weather Condition Categories: 144\n"
     ]
    }
   ],
   "source": [
    "\n",
    "\n",
    "# Consolidate directional redundancies using a mapping\n",
    "weather_mapping = {\n",
    "    'Blowing Dust / Windy': 'Blowing Dust',\n",
    "    'Dust Whirls': 'Dust',\n",
    "    'Sand / Dust Whirls Nearby': 'Dust',\n",
    "    'Sand / Dust Whirlwinds': 'Dust',\n",
    "    'Sand / Dust Whirlwinds / Windy': 'Dust',\n",
    "    'Widespread Dust': 'Dust',\n",
    "    'Widespread Dust / Windy': 'Dust',\n",
    "    'Blowing Snow / Windy': 'Blowing Snow',\n",
    "    'Heavy Snow / Windy': 'Heavy Snow',\n",
    "    'Light Snow / Windy': 'Light Snow',\n",
    "    'Snow / Windy': 'Snow',\n",
    "    'Snow and Sleet / Windy': 'Snow and Sleet',\n",
    "    'Light Snow Showers': 'Snow Showers',\n",
    "    'Cloudy / Windy': 'Cloudy',\n",
    "    'Mostly Cloudy / Windy': 'Mostly Cloudy',\n",
    "    'Partly Cloudy / Windy': 'Partly Cloudy',\n",
    "    'Scattered Clouds': 'Cloudy',\n",
    "    'Overcast': 'Cloudy',\n",
    "    'Fog / Windy': 'Fog',\n",
    "    'Haze / Windy': 'Haze',\n",
    "    'Shallow Fog / Windy': 'Shallow Fog',\n",
    "    'Partial Fog / Windy': 'Partial Fog',\n",
    "    'Patches of Fog / Windy': 'Patches of Fog',\n",
    "    'Drizzle / Windy': 'Drizzle',\n",
    "    'Rain / Windy': 'Rain',\n",
    "    'Heavy Rain / Windy': 'Heavy Rain',\n",
    "    'Light Rain / Windy': 'Light Rain',\n",
    "    'Rain Showers': 'Rain Shower',\n",
    "    'Thunderstorm': 'Thunderstorm',\n",
    "    'Thunderstorms and Rain': 'Thunderstorm',\n",
    "    'Thunder': 'Thunderstorm',\n",
    "    'Thunder / Windy': 'Thunderstorm',\n",
    "    'Thunder in the Vicinity': 'Thunderstorm',\n",
    "    'Heavy T-Storm': 'Heavy Thunderstorm',\n",
    "    'Heavy T-Storm / Windy': 'Heavy Thunderstorm',\n",
    "    'Light Thunderstorms and Rain': 'Light Thunderstorm',\n",
    "    'T-Storm': 'Thunderstorm',\n",
    "    'T-Storm / Windy': 'Thunderstorm',\n",
    "    \n",
    "}\n",
    "\n",
    "dn['Weather_Condition'] = dn['Weather_Condition'].map(directions_mapping).fillna(dn['Weather_Condition'])\n",
    "\n",
    "# After consolidation, re-group and count to see the updated distributions\n",
    "value_counts_weather_condition = dn['Weather_Condition'].value_counts().sort_index().reset_index()\n",
    "value_counts_weather_condition.columns = ['Weather_Condition', 'count']\n",
    "\n",
    "# Show the consolidated data\n",
    "print(value_counts_weather_condition)\n",
    "\n",
    "# Optionally, count the distinct number of wind direction categories after consolidation\n",
    "print(\"Distinct Weather Condition Categories:\", dn['Weather_Condition'].nunique())\n"
   ]
  },
  {
   "cell_type": "code",
   "execution_count": 15,
   "metadata": {
    "ExecuteTime": {
     "end_time": "2024-04-02T22:01:32.718824400Z",
     "start_time": "2024-04-02T22:01:32.622561600Z"
    }
   },
   "outputs": [
    {
     "name": "stdout",
     "output_type": "stream",
     "text": [
      "\n",
      "Total Number of Records with Null Values: 7728394\n",
      "Null Values Counts:\n",
      "Street            10869\n",
      "City                253\n",
      "Zipcode            1915\n",
      "Timezone           7808\n",
      "Sunrise_Sunset    23246\n",
      "dtype: int64\n",
      "\n",
      "Percentage of Null Values to Total Records:\n",
      "Street            0.140637\n",
      "City              0.003274\n",
      "Zipcode           0.024779\n",
      "Timezone          0.101030\n",
      "Sunrise_Sunset    0.300787\n",
      "dtype: float64\n"
     ]
    }
   ],
   "source": [
    "print(\"\\nTotal Number of Records with Null Values:\", total_records)\n",
    "print(\"Null Values Counts:\")\n",
    "print(null_counts)\n",
    "print(\"\\nPercentage of Null Values to Total Records:\")\n",
    "print(null_percentage)"
   ]
  },
  {
   "cell_type": "code",
   "execution_count": 16,
   "metadata": {
    "ExecuteTime": {
     "end_time": "2024-04-02T22:01:33.240680200Z",
     "start_time": "2024-04-02T22:01:32.718824400Z"
    }
   },
   "outputs": [
    {
     "name": "stdout",
     "output_type": "stream",
     "text": [
      "Records where 'Sunrise_Sunset' column has null values:\n",
      "                ID  Severity  Distance(mi)            Street      City  \\\n",
      "85968      A-85975         2         0.000        263rd St E       NaN   \n",
      "111080    A-111087         2         0.010        263rd St E       NaN   \n",
      "119772    A-119779         2         0.010   University Pkwy       NaN   \n",
      "122929    A-122936         2         0.010   University Pkwy       NaN   \n",
      "123702    A-123709         2         0.010   University Pkwy       NaN   \n",
      "...            ...       ...           ...               ...       ...   \n",
      "7619724  A-7669092         2         3.271           King St       NaN   \n",
      "7629988  A-7679356         4         3.308   N State Line Rd       NaN   \n",
      "7636150  A-7685518         3         0.259             I-170  St Louis   \n",
      "7639338  A-7688706         3         0.731             I-170  St Louis   \n",
      "7664113  A-7713481         3         0.731             I-170  St Louis   \n",
      "\n",
      "              County State Zipcode Country    Timezone Wind_Direction  \\\n",
      "85968    Los Angeles    CA   92372      US  US/Pacific           West   \n",
      "111080   Los Angeles    CA   92372      US  US/Pacific          North   \n",
      "119772      Sarasota    FL   34202      US  US/Eastern           East   \n",
      "122929      Sarasota    FL   34202      US  US/Eastern           Calm   \n",
      "123702      Sarasota    FL   34202      US  US/Eastern           Calm   \n",
      "...              ...   ...     ...     ...         ...            ...   \n",
      "7619724  Westchester    NY   06831      US  US/Eastern          South   \n",
      "7629988        Allen    IN   45813      US  US/Eastern           Calm   \n",
      "7636150     St Louis    MO   63134      US  US/Central             SE   \n",
      "7639338     St Louis    MO   63134      US  US/Central            WNW   \n",
      "7664113     St Louis    MO   63134      US  US/Central              N   \n",
      "\n",
      "        Weather_Condition  Amenity   Bump  Crossing  Give_Way  Junction  \\\n",
      "85968               Clear    False  False     False     False     False   \n",
      "111080      Partly Cloudy    False  False     False     False     False   \n",
      "119772           Overcast    False  False      True     False     False   \n",
      "122929              Clear    False  False     False     False     False   \n",
      "123702              Clear    False  False      True     False     False   \n",
      "...                   ...      ...    ...       ...       ...       ...   \n",
      "7619724        Light Rain    False  False      True     False      True   \n",
      "7629988          Overcast    False  False     False     False     False   \n",
      "7636150     Mostly Cloudy    False  False     False     False     False   \n",
      "7639338  Scattered Clouds    False  False     False     False     False   \n",
      "7664113            Cloudy    False  False     False     False     False   \n",
      "\n",
      "         No_Exit  Railway  Roundabout  Station   Stop  Traffic_Calming  \\\n",
      "85968      False    False       False    False  False            False   \n",
      "111080     False    False       False    False  False            False   \n",
      "119772     False    False       False    False  False            False   \n",
      "122929     False    False       False    False  False            False   \n",
      "123702     False    False       False    False  False            False   \n",
      "...          ...      ...         ...      ...    ...              ...   \n",
      "7619724    False    False       False    False   True            False   \n",
      "7629988    False    False       False    False  False            False   \n",
      "7636150    False    False       False    False  False            False   \n",
      "7639338    False    False       False    False  False            False   \n",
      "7664113    False    False       False    False  False            False   \n",
      "\n",
      "         Traffic_Signal  Turning_Loop Sunrise_Sunset  Start_Date    End_Date  \\\n",
      "85968             False         False            NaN  2016-08-02  2016-08-02   \n",
      "111080            False         False            NaN  2016-06-01  2016-06-01   \n",
      "119772             True         False            NaN  2016-12-23  2016-12-23   \n",
      "122929            False         False            NaN  2017-01-17  2017-01-17   \n",
      "123702             True         False            NaN  2017-01-24  2017-01-24   \n",
      "...                 ...           ...            ...         ...         ...   \n",
      "7619724           False         False            NaN  2017-10-09  2017-10-09   \n",
      "7629988           False         False            NaN  2017-09-06  2017-09-06   \n",
      "7636150           False         False            NaN  2017-09-21  2017-09-21   \n",
      "7639338           False         False            NaN  2017-09-29  2017-09-29   \n",
      "7664113           False         False            NaN  2019-04-23  2019-04-23   \n",
      "\n",
      "        Start_Time  End_Time  \n",
      "85968     18:18:02  19:03:02  \n",
      "111080    10:26:08  11:10:00  \n",
      "119772    19:30:59  20:15:41  \n",
      "122929    17:34:09  18:04:09  \n",
      "123702    07:30:44  08:15:29  \n",
      "...            ...       ...  \n",
      "7619724   15:46:08  21:46:08  \n",
      "7629988   06:51:55  12:51:55  \n",
      "7636150   17:10:44  23:10:44  \n",
      "7639338   08:34:39  14:34:39  \n",
      "7664113   13:20:40  13:50:10  \n",
      "\n",
      "[23246 rows x 30 columns]\n"
     ]
    }
   ],
   "source": [
    "# Select records where 'Sunrise_Sunset' column has null values\n",
    "sunrise_sunset_null = dn_new[dn_new['Sunrise_Sunset'].isnull()]\n",
    "\n",
    "# Display the selected records\n",
    "print(\"Records where 'Sunrise_Sunset' column has null values:\")\n",
    "print(sunrise_sunset_null)"
   ]
  },
  {
   "cell_type": "code",
   "execution_count": 17,
   "metadata": {
    "ExecuteTime": {
     "end_time": "2024-04-02T22:03:48.081457200Z",
     "start_time": "2024-04-02T22:01:33.256310200Z"
    }
   },
   "outputs": [
    {
     "name": "stdout",
     "output_type": "stream",
     "text": [
      "There are not null values in Sunrise_Sunset\n"
     ]
    }
   ],
   "source": [
    "# Function to fill null values based on conditions\n",
    "def fill_sunrise_sunset(row):\n",
    "    if pd.isnull(row['Sunrise_Sunset']):\n",
    "        start_time = pd.Timestamp.combine(pd.Timestamp.today(), row['Start_Time'])\n",
    "        if start_time >= pd.Timestamp.combine(pd.Timestamp.today(), pd.to_datetime('06:30:00').time()) \\\n",
    "                and start_time <= pd.Timestamp.combine(pd.Timestamp.today(), pd.to_datetime('18:30:00').time()):\n",
    "            return 'Day'\n",
    "        else:\n",
    "            return 'Night'\n",
    "    else:\n",
    "        return row['Sunrise_Sunset']\n",
    "\n",
    "# Apply the function to fill null values in 'Sunrise_Sunset'\n",
    "dn_new.loc[:, 'Sunrise_Sunset'] = dn_new.apply(fill_sunrise_sunset, axis=1)\n",
    "\n",
    "# Check if there are null values in 'Sunrise_Sunset' column and print the appropriate message\n",
    "if dn_new['Sunrise_Sunset'].isnull().any():\n",
    "    print(\"There are null values in Sunrise_Sunset\")\n",
    "else:\n",
    "    print(\"There are not null values in Sunrise_Sunset\")\n"
   ]
  },
  {
   "cell_type": "code",
   "execution_count": 18,
   "metadata": {
    "ExecuteTime": {
     "end_time": "2024-04-02T22:03:51.607830100Z",
     "start_time": "2024-04-02T22:03:48.112782500Z"
    }
   },
   "outputs": [
    {
     "name": "stdout",
     "output_type": "stream",
     "text": [
      "Records deleted in city, street, and zipcode columns: 13034\n",
      "Total records deleted: 13034\n"
     ]
    }
   ],
   "source": [
    "# Calculate the total number of records in the original DataFrame\n",
    "total_records_dn_new = len(dn_new)\n",
    "\n",
    "\n",
    "# Delete records with null values in 'city', 'street', and 'zipcode' columns\n",
    "dn_new_filtered = dn_new.dropna(subset=['City', 'Street', 'Zipcode'])\n",
    "\n",
    "# Calculate the number of records deleted in 'city', 'street', and 'zipcode' columns\n",
    "records_deleted_city_street_zipcode = len(dn_new) - len(dn_new_filtered)\n",
    "print(f'Records deleted in city, street, and zipcode columns: {records_deleted_city_street_zipcode}')\n",
    "\n",
    "\n",
    "# Print the total number of records deleted\n",
    "total_records_deleted =  records_deleted_city_street_zipcode\n",
    "print(f'Total records deleted: {total_records_deleted}')\n"
   ]
  },
  {
   "cell_type": "code",
   "execution_count": 19,
   "metadata": {
    "ExecuteTime": {
     "end_time": "2024-04-02T22:03:57.876746300Z",
     "start_time": "2024-04-02T22:03:51.607830100Z"
    }
   },
   "outputs": [
    {
     "name": "stdout",
     "output_type": "stream",
     "text": [
      "\n",
      "Total Number of Records: 7715360\n",
      "Null Values Counts:\n",
      "Street         0\n",
      "City           0\n",
      "Zipcode        0\n",
      "Timezone    5890\n",
      "dtype: int64\n"
     ]
    }
   ],
   "source": [
    "# Find columns with null values\n",
    "columns_with_null = dn_new_filtered.columns[dn_new.isnull().any()]\n",
    "\n",
    "# Select only columns with null values\n",
    "dn_new_null_columns = dn_new_filtered[columns_with_null]\n",
    "\n",
    "# Calculate total number of records with null values and percentage\n",
    "total_records = len(dn_new_filtered)\n",
    "null_counts = dn_new_null_columns.isnull().sum()\n",
    "\n",
    "\n",
    "print(\"\\nTotal Number of Records:\", total_records)\n",
    "print(\"Null Values Counts:\")\n",
    "print(null_counts)\n"
   ]
  },
  {
   "cell_type": "code",
   "execution_count": 20,
   "metadata": {
    "ExecuteTime": {
     "end_time": "2024-04-02T22:04:43.383771500Z",
     "start_time": "2024-04-02T22:03:57.892395400Z"
    }
   },
   "outputs": [
    {
     "name": "stdout",
     "output_type": "stream",
     "text": [
      "New number of null values for Timezone after replacement: 0\n",
      "Number of changed records: 5890\n"
     ]
    }
   ],
   "source": [
    "# Function to calculate mode timezone for each state\n",
    "def calculate_mode_timezone(group):\n",
    "    if not group.empty:\n",
    "        mode_values = group.mode()\n",
    "        if not mode_values.empty:\n",
    "            return mode_values.iloc[0]\n",
    "        else:\n",
    "            return None\n",
    "    else:\n",
    "        return None\n",
    "\n",
    "# Group by 'state' and calculate mode timezone for each state\n",
    "mode_timezone_by_state = dn_new_filtered.groupby('State')['Timezone'].apply(calculate_mode_timezone)\n",
    "\n",
    "# Replace null values in 'Timezone' column with mode timezone according to the state\n",
    "changed_records = 0\n",
    "for state, mode_timezone in mode_timezone_by_state.items():\n",
    "    mask = (dn_new_filtered['State'] == state) & (dn_new_filtered['Timezone'].isnull())\n",
    "    dn_new_filtered.loc[mask, 'Timezone'] = dn_new_filtered.loc[mask, 'Timezone'].fillna(mode_timezone)\n",
    "    changed_records += mask.sum()  # Count the number of changed records\n",
    "\n",
    "# Print the new number of null values for 'Timezone'\n",
    "new_null_values = dn_new_filtered['Timezone'].isnull().sum()\n",
    "print(\"New number of null values for Timezone after replacement:\", new_null_values)\n",
    "print(\"Number of changed records:\", changed_records)\n"
   ]
  },
  {
   "cell_type": "code",
   "execution_count": 21,
   "metadata": {
    "ExecuteTime": {
     "end_time": "2024-04-02T22:04:47.504817100Z",
     "start_time": "2024-04-02T22:04:43.390872800Z"
    }
   },
   "outputs": [
    {
     "name": "stdout",
     "output_type": "stream",
     "text": [
      "\n",
      "Original Number of Records: 7728394\n",
      "Final Number of Records after deleting null values: 7715360\n",
      "Number of Deleted Records due to null values: 13034\n",
      "Null values not founded\n"
     ]
    }
   ],
   "source": [
    "# Find columns with null values\n",
    "columns_with_null = dn_new_filtered.columns[dn_new_filtered.isnull().any()]\n",
    "\n",
    "# Select only columns with null values\n",
    "dn_new_null_columns = dn_new_filtered[columns_with_null]\n",
    "\n",
    "# Calculate total number of original records\n",
    "original_records = len(dn_new)\n",
    "\n",
    "# Calculate total number of records with null values and percentage\n",
    "deleted_records = original_records - len(dn_new_null_columns)\n",
    "total_records = len(dn_new_null_columns.dropna())\n",
    "null_counts = dn_new_null_columns.isnull().sum()\n",
    "\n",
    "print(\"\\nOriginal Number of Records:\", original_records)\n",
    "print(\"Final Number of Records after deleting null values:\", total_records)\n",
    "print(\"Number of Deleted Records due to null values:\", deleted_records)\n",
    "\n",
    "# Check if there are no null values\n",
    "if null_counts.sum() == 0:\n",
    "    print(\"Null values not founded\")\n",
    "else:\n",
    "    print(\"Null values founded\")"
   ]
  },
  {
   "cell_type": "code",
   "execution_count": 22,
   "metadata": {
    "ExecuteTime": {
     "end_time": "2024-04-02T22:05:10.445782800Z",
     "start_time": "2024-04-02T22:04:47.497792700Z"
    }
   },
   "outputs": [
    {
     "name": "stdout",
     "output_type": "stream",
     "text": [
      "Duplicate Records:\n",
      "Empty DataFrame\n",
      "Columns: [ID, Severity, Distance(mi), Street, City, County, State, Zipcode, Country, Timezone, Wind_Direction, Weather_Condition, Amenity, Bump, Crossing, Give_Way, Junction, No_Exit, Railway, Roundabout, Station, Stop, Traffic_Calming, Traffic_Signal, Turning_Loop, Sunrise_Sunset, Start_Date, End_Date, Start_Time, End_Time]\n",
      "Index: []\n"
     ]
    }
   ],
   "source": [
    "# Find duplicate records based on all columns\n",
    "duplicate_rows = dn_new_filtered[dn_new_filtered.duplicated()]\n",
    "\n",
    "# Print duplicate records\n",
    "print(\"Duplicate Records:\")\n",
    "print(duplicate_rows)"
   ]
  },
  {
   "cell_type": "code",
   "execution_count": 23,
   "metadata": {
    "ExecuteTime": {
     "end_time": "2024-04-02T22:05:10.592143600Z",
     "start_time": "2024-04-02T22:05:10.445782800Z"
    }
   },
   "outputs": [
    {
     "data": {
      "text/plain": "    ID  Severity  Distance(mi)                     Street          City  \\\n0  A-1         3          0.01                     I-70 E        Dayton   \n1  A-2         2          0.01                   Brice Rd  Reynoldsburg   \n2  A-3         2          0.01             State Route 32  Williamsburg   \n3  A-4         3          0.01                     I-75 S        Dayton   \n4  A-5         2          0.01  Miamisburg Centerville Rd        Dayton   \n\n       County State     Zipcode Country    Timezone Wind_Direction  \\\n0  Montgomery    OH       45424      US  US/Eastern           Calm   \n1    Franklin    OH  43068-3402      US  US/Eastern           Calm   \n2    Clermont    OH       45176      US  US/Eastern             SW   \n3  Montgomery    OH       45417      US  US/Eastern             SW   \n4  Montgomery    OH       45459      US  US/Eastern             SW   \n\n  Weather_Condition  Amenity   Bump  Crossing  Give_Way  Junction  No_Exit  \\\n0        Light Rain    False  False     False     False     False    False   \n1        Light Rain    False  False     False     False     False    False   \n2          Overcast    False  False     False     False     False    False   \n3     Mostly Cloudy    False  False     False     False     False    False   \n4     Mostly Cloudy    False  False     False     False     False    False   \n\n   Railway  Roundabout  Station   Stop  Traffic_Calming  Traffic_Signal  \\\n0    False       False    False  False            False           False   \n1    False       False    False  False            False           False   \n2    False       False    False  False            False            True   \n3    False       False    False  False            False           False   \n4    False       False    False  False            False            True   \n\n   Turning_Loop Sunrise_Sunset  Start_Date    End_Date Start_Time  End_Time  \n0         False          Night  2016-02-08  2016-02-08   05:46:00  11:00:00  \n1         False          Night  2016-02-08  2016-02-08   06:07:59  06:37:59  \n2         False          Night  2016-02-08  2016-02-08   06:49:27  07:19:27  \n3         False          Night  2016-02-08  2016-02-08   07:23:34  07:53:34  \n4         False            Day  2016-02-08  2016-02-08   07:39:07  08:09:07  ",
      "text/html": "<div>\n<style scoped>\n    .dataframe tbody tr th:only-of-type {\n        vertical-align: middle;\n    }\n\n    .dataframe tbody tr th {\n        vertical-align: top;\n    }\n\n    .dataframe thead th {\n        text-align: right;\n    }\n</style>\n<table border=\"1\" class=\"dataframe\">\n  <thead>\n    <tr style=\"text-align: right;\">\n      <th></th>\n      <th>ID</th>\n      <th>Severity</th>\n      <th>Distance(mi)</th>\n      <th>Street</th>\n      <th>City</th>\n      <th>County</th>\n      <th>State</th>\n      <th>Zipcode</th>\n      <th>Country</th>\n      <th>Timezone</th>\n      <th>Wind_Direction</th>\n      <th>Weather_Condition</th>\n      <th>Amenity</th>\n      <th>Bump</th>\n      <th>Crossing</th>\n      <th>Give_Way</th>\n      <th>Junction</th>\n      <th>No_Exit</th>\n      <th>Railway</th>\n      <th>Roundabout</th>\n      <th>Station</th>\n      <th>Stop</th>\n      <th>Traffic_Calming</th>\n      <th>Traffic_Signal</th>\n      <th>Turning_Loop</th>\n      <th>Sunrise_Sunset</th>\n      <th>Start_Date</th>\n      <th>End_Date</th>\n      <th>Start_Time</th>\n      <th>End_Time</th>\n    </tr>\n  </thead>\n  <tbody>\n    <tr>\n      <th>0</th>\n      <td>A-1</td>\n      <td>3</td>\n      <td>0.01</td>\n      <td>I-70 E</td>\n      <td>Dayton</td>\n      <td>Montgomery</td>\n      <td>OH</td>\n      <td>45424</td>\n      <td>US</td>\n      <td>US/Eastern</td>\n      <td>Calm</td>\n      <td>Light Rain</td>\n      <td>False</td>\n      <td>False</td>\n      <td>False</td>\n      <td>False</td>\n      <td>False</td>\n      <td>False</td>\n      <td>False</td>\n      <td>False</td>\n      <td>False</td>\n      <td>False</td>\n      <td>False</td>\n      <td>False</td>\n      <td>False</td>\n      <td>Night</td>\n      <td>2016-02-08</td>\n      <td>2016-02-08</td>\n      <td>05:46:00</td>\n      <td>11:00:00</td>\n    </tr>\n    <tr>\n      <th>1</th>\n      <td>A-2</td>\n      <td>2</td>\n      <td>0.01</td>\n      <td>Brice Rd</td>\n      <td>Reynoldsburg</td>\n      <td>Franklin</td>\n      <td>OH</td>\n      <td>43068-3402</td>\n      <td>US</td>\n      <td>US/Eastern</td>\n      <td>Calm</td>\n      <td>Light Rain</td>\n      <td>False</td>\n      <td>False</td>\n      <td>False</td>\n      <td>False</td>\n      <td>False</td>\n      <td>False</td>\n      <td>False</td>\n      <td>False</td>\n      <td>False</td>\n      <td>False</td>\n      <td>False</td>\n      <td>False</td>\n      <td>False</td>\n      <td>Night</td>\n      <td>2016-02-08</td>\n      <td>2016-02-08</td>\n      <td>06:07:59</td>\n      <td>06:37:59</td>\n    </tr>\n    <tr>\n      <th>2</th>\n      <td>A-3</td>\n      <td>2</td>\n      <td>0.01</td>\n      <td>State Route 32</td>\n      <td>Williamsburg</td>\n      <td>Clermont</td>\n      <td>OH</td>\n      <td>45176</td>\n      <td>US</td>\n      <td>US/Eastern</td>\n      <td>SW</td>\n      <td>Overcast</td>\n      <td>False</td>\n      <td>False</td>\n      <td>False</td>\n      <td>False</td>\n      <td>False</td>\n      <td>False</td>\n      <td>False</td>\n      <td>False</td>\n      <td>False</td>\n      <td>False</td>\n      <td>False</td>\n      <td>True</td>\n      <td>False</td>\n      <td>Night</td>\n      <td>2016-02-08</td>\n      <td>2016-02-08</td>\n      <td>06:49:27</td>\n      <td>07:19:27</td>\n    </tr>\n    <tr>\n      <th>3</th>\n      <td>A-4</td>\n      <td>3</td>\n      <td>0.01</td>\n      <td>I-75 S</td>\n      <td>Dayton</td>\n      <td>Montgomery</td>\n      <td>OH</td>\n      <td>45417</td>\n      <td>US</td>\n      <td>US/Eastern</td>\n      <td>SW</td>\n      <td>Mostly Cloudy</td>\n      <td>False</td>\n      <td>False</td>\n      <td>False</td>\n      <td>False</td>\n      <td>False</td>\n      <td>False</td>\n      <td>False</td>\n      <td>False</td>\n      <td>False</td>\n      <td>False</td>\n      <td>False</td>\n      <td>False</td>\n      <td>False</td>\n      <td>Night</td>\n      <td>2016-02-08</td>\n      <td>2016-02-08</td>\n      <td>07:23:34</td>\n      <td>07:53:34</td>\n    </tr>\n    <tr>\n      <th>4</th>\n      <td>A-5</td>\n      <td>2</td>\n      <td>0.01</td>\n      <td>Miamisburg Centerville Rd</td>\n      <td>Dayton</td>\n      <td>Montgomery</td>\n      <td>OH</td>\n      <td>45459</td>\n      <td>US</td>\n      <td>US/Eastern</td>\n      <td>SW</td>\n      <td>Mostly Cloudy</td>\n      <td>False</td>\n      <td>False</td>\n      <td>False</td>\n      <td>False</td>\n      <td>False</td>\n      <td>False</td>\n      <td>False</td>\n      <td>False</td>\n      <td>False</td>\n      <td>False</td>\n      <td>False</td>\n      <td>True</td>\n      <td>False</td>\n      <td>Day</td>\n      <td>2016-02-08</td>\n      <td>2016-02-08</td>\n      <td>07:39:07</td>\n      <td>08:09:07</td>\n    </tr>\n  </tbody>\n</table>\n</div>"
     },
     "execution_count": 23,
     "metadata": {},
     "output_type": "execute_result"
    }
   ],
   "source": [
    "pd.set_option('display.max_columns', None)\n",
    "dn_new_filtered.head()"
   ]
  },
  {
   "cell_type": "code",
   "execution_count": 24,
   "metadata": {
    "ExecuteTime": {
     "end_time": "2024-04-02T22:05:17.876757400Z",
     "start_time": "2024-04-02T22:05:10.498486900Z"
    }
   },
   "outputs": [
    {
     "name": "stdout",
     "output_type": "stream",
     "text": [
      "ID                   0\n",
      "Severity             0\n",
      "Distance(mi)         0\n",
      "Street               0\n",
      "City                 0\n",
      "County               0\n",
      "State                0\n",
      "Zipcode              0\n",
      "Country              0\n",
      "Timezone             0\n",
      "Wind_Direction       0\n",
      "Weather_Condition    0\n",
      "Amenity              0\n",
      "Bump                 0\n",
      "Crossing             0\n",
      "Give_Way             0\n",
      "Junction             0\n",
      "No_Exit              0\n",
      "Railway              0\n",
      "Roundabout           0\n",
      "Station              0\n",
      "Stop                 0\n",
      "Traffic_Calming      0\n",
      "Traffic_Signal       0\n",
      "Turning_Loop         0\n",
      "Sunrise_Sunset       0\n",
      "Start_Date           0\n",
      "End_Date             0\n",
      "Start_Time           0\n",
      "End_Time             0\n",
      "dtype: int64\n"
     ]
    }
   ],
   "source": [
    "print(dn_new_filtered.isnull().sum())"
   ]
  },
  {
   "cell_type": "markdown",
   "metadata": {},
   "source": [
    "# Model Building\n",
    "\n",
    "### Machine Learning Models Research\n",
    "\n",
    "Before creating ML Models, since we're giving the client the power to choose any model based on the strengths of each one, we need to research about the benefits of using each one and how do those strengths can easily translate into benefits to the client.\n",
    "\n",
    "##### List of Machine Learning Models\n",
    "\n",
    "1. **Random Forest**\n",
    "\n",
    "    *Description*: An ensemble of decision trees, typically trained via the bagging method. It improves over a single decision tree by reducing overfitting.\n",
    "\n",
    "    *Strengths*: More accurate than a single decision tree, effective for large datasets, and can handle missing values. It also provides feature importance scores.\n",
    "\n",
    "    *Benefit Translation*: Offers high accuracy through ensemble learning. **Best balance between Bias and Variance, and highest Recall**.\n",
    "\n",
    "\n",
    "2. **Gradient Boosting Machines (GBM)**\n",
    "\n",
    "    *Description*: An ensemble technique that builds models sequentially, each new model correcting errors made by previous models.\n",
    "\n",
    "    *Strengths*: Often provides high predictive accuracy, can handle different types of data, and allows for optimization of different loss functions.\n",
    "\n",
    "    *Benefit Translation*: Tends to provide high precision and recall, with careful tuning, by sequentially correcting errors of prior models, often at the cost of increased model complexity (variance). **Highest Accuracy, lowest Variance, and Most Effective Overall**.\n",
    "\n",
    "\n",
    "3. **Neural Networks (Deep Learning)**\n",
    "\n",
    "    *Description*: A set of algorithms modeled after the human brain, capable of learning from large amounts of data.\n",
    "\n",
    "    *Strengths*: Can capture complex relationship in the data, perform well on a wide range of tasks, and are particularly useful for capturing nonlinear interactions.\n",
    "\n",
    "    *Benefit Translation*: Potentially high accuracy in capturing complex, nonlinear relationships, though often at the expense of increased computational cost and model interpretability. **Lowest Bias**.\n",
    "\n",
    "\n",
    "4. **Support Vector Machines**\n",
    "\n",
    "    *Description*: A model that finds the hyperplane that best separates different classes in the feature space.\n",
    "\n",
    "    *Strengths*: Effective in high-dimensional spaces and for cases where the number of dimensions exceeds the number of samples.\n",
    "\n",
    "    *Benefit Translation*: High precision in high-dimensional spaces, especially effective when the margin of separation is clear and well-defined. **Highest Precision**.\n",
    "\n",
    "\n",
    "5. **Ensemble Methods**\n",
    "\n",
    "    *Description*: Techniques that combine the predictions from multiple machine learning algorithms to make more accurate predictions than any individual model.\n",
    "\n",
    "    *Strengths*: Can leverage the strengths of multiple models, often leading to improved accuracy and robustness over single models.\n",
    "\n",
    "    *Benefit Translation*: Aims to increase overall accuracy by reducing bias (through bagging methods like Random Forest) or variance (through boosting methods like GBM), depending on the ensemble strategy used.\n",
    "\n",
    "##### References\n",
    "\n",
    "* [Random Forest vs Light GBM](https://datascience.stackexchange.com/questions/63322/random-forest-vs-lightgbm)\n",
    "* [Explore Machine Learning Models: A Comprehensive Comparison of Logistic Regression, Decision Trees, SVM, Random Forest and XGBoost](https://medium.com/%2540malli.learnings/exploring-machine-learning-models-a-comprehensive-comparison-of-logistic-regression-decision-38cc12287055)\n",
    "* [Ensemble Methods for Deep Learning Neural Networks](https://machinelearningmastery.com/ensemble-methods-for-deep-learning-neural-networks/)"
   ]
  },
  {
   "cell_type": "code",
   "execution_count": 25,
   "metadata": {
    "ExecuteTime": {
     "end_time": "2024-04-02T22:05:17.891215400Z",
     "start_time": "2024-04-02T22:05:17.876757400Z"
    }
   },
   "outputs": [],
   "source": [
    "# This variable holds the random state used in every model, in order\n",
    "# for the results to be easily reproduced if needed in the future.\n",
    "seed = 776"
   ]
  },
  {
   "cell_type": "code",
   "execution_count": 26,
   "metadata": {
    "ExecuteTime": {
     "end_time": "2024-04-02T22:05:18.036311500Z",
     "start_time": "2024-04-02T22:05:17.895047800Z"
    }
   },
   "outputs": [
    {
     "name": "stdout",
     "output_type": "stream",
     "text": [
      "<class 'pandas.core.frame.DataFrame'>\n",
      "Index: 7715360 entries, 0 to 7728393\n",
      "Data columns (total 30 columns):\n",
      " #   Column             Dtype  \n",
      "---  ------             -----  \n",
      " 0   ID                 object \n",
      " 1   Severity           int64  \n",
      " 2   Distance(mi)       float64\n",
      " 3   Street             object \n",
      " 4   City               object \n",
      " 5   County             object \n",
      " 6   State              object \n",
      " 7   Zipcode            object \n",
      " 8   Country            object \n",
      " 9   Timezone           object \n",
      " 10  Wind_Direction     object \n",
      " 11  Weather_Condition  object \n",
      " 12  Amenity            bool   \n",
      " 13  Bump               bool   \n",
      " 14  Crossing           bool   \n",
      " 15  Give_Way           bool   \n",
      " 16  Junction           bool   \n",
      " 17  No_Exit            bool   \n",
      " 18  Railway            bool   \n",
      " 19  Roundabout         bool   \n",
      " 20  Station            bool   \n",
      " 21  Stop               bool   \n",
      " 22  Traffic_Calming    bool   \n",
      " 23  Traffic_Signal     bool   \n",
      " 24  Turning_Loop       bool   \n",
      " 25  Sunrise_Sunset     object \n",
      " 26  Start_Date         object \n",
      " 27  End_Date           object \n",
      " 28  Start_Time         object \n",
      " 29  End_Time           object \n",
      "dtypes: bool(13), float64(1), int64(1), object(15)\n",
      "memory usage: 1.1+ GB\n"
     ]
    }
   ],
   "source": [
    "# Checking the data types of the columns and null values.\n",
    "dn_new_filtered.info()"
   ]
  },
  {
   "cell_type": "code",
   "execution_count": 27,
   "metadata": {
    "ExecuteTime": {
     "end_time": "2024-04-02T22:05:19.650673500Z",
     "start_time": "2024-04-02T22:05:17.955668800Z"
    }
   },
   "outputs": [],
   "source": [
    "# ID is not going to be useful for any model.\n",
    "dn_model = dn_new_filtered.drop('ID', axis = 1)"
   ]
  },
  {
   "cell_type": "code",
   "execution_count": 28,
   "metadata": {
    "ExecuteTime": {
     "end_time": "2024-04-02T22:05:19.669689800Z",
     "start_time": "2024-04-02T22:05:19.650673500Z"
    }
   },
   "outputs": [
    {
     "name": "stdout",
     "output_type": "stream",
     "text": [
      "<class 'pandas.core.frame.DataFrame'>\n",
      "Index: 7715360 entries, 0 to 7728393\n",
      "Data columns (total 29 columns):\n",
      " #   Column             Dtype  \n",
      "---  ------             -----  \n",
      " 0   Severity           int64  \n",
      " 1   Distance(mi)       float64\n",
      " 2   Street             object \n",
      " 3   City               object \n",
      " 4   County             object \n",
      " 5   State              object \n",
      " 6   Zipcode            object \n",
      " 7   Country            object \n",
      " 8   Timezone           object \n",
      " 9   Wind_Direction     object \n",
      " 10  Weather_Condition  object \n",
      " 11  Amenity            bool   \n",
      " 12  Bump               bool   \n",
      " 13  Crossing           bool   \n",
      " 14  Give_Way           bool   \n",
      " 15  Junction           bool   \n",
      " 16  No_Exit            bool   \n",
      " 17  Railway            bool   \n",
      " 18  Roundabout         bool   \n",
      " 19  Station            bool   \n",
      " 20  Stop               bool   \n",
      " 21  Traffic_Calming    bool   \n",
      " 22  Traffic_Signal     bool   \n",
      " 23  Turning_Loop       bool   \n",
      " 24  Sunrise_Sunset     object \n",
      " 25  Start_Date         object \n",
      " 26  End_Date           object \n",
      " 27  Start_Time         object \n",
      " 28  End_Time           object \n",
      "dtypes: bool(13), float64(1), int64(1), object(14)\n",
      "memory usage: 1.1+ GB\n"
     ]
    }
   ],
   "source": [
    "# Uncomment for a quick look into the dataset.\n",
    "dn_model.info()\n",
    "# dn_model.head()"
   ]
  },
  {
   "cell_type": "markdown",
   "metadata": {},
   "source": [
    "### Pre-encoding dataset"
   ]
  },
  {
   "cell_type": "code",
   "execution_count": 40,
   "metadata": {
    "ExecuteTime": {
     "end_time": "2024-04-03T00:03:27.045167300Z",
     "start_time": "2024-04-03T00:03:14.500991300Z"
    }
   },
   "outputs": [
    {
     "ename": "KeyboardInterrupt",
     "evalue": "",
     "output_type": "error",
     "traceback": [
      "\u001B[1;31m---------------------------------------------------------------------------\u001B[0m",
      "\u001B[1;31mKeyboardInterrupt\u001B[0m                         Traceback (most recent call last)",
      "Cell \u001B[1;32mIn[40], line 2\u001B[0m\n\u001B[0;32m      1\u001B[0m \u001B[38;5;66;03m# Working on a copy of dn_model.\u001B[39;00m\n\u001B[1;32m----> 2\u001B[0m dn_model_encoded \u001B[38;5;241m=\u001B[39m \u001B[43mdn_model\u001B[49m\u001B[38;5;241;43m.\u001B[39;49m\u001B[43mcopy\u001B[49m\u001B[43m(\u001B[49m\u001B[43m)\u001B[49m\n\u001B[0;32m      3\u001B[0m dn_model_encoded\u001B[38;5;241m.\u001B[39mhead()\n",
      "File \u001B[1;32m~\\IdeaProjects\\DiabetesPrediction\\venv\\Lib\\site-packages\\pandas\\core\\generic.py:6685\u001B[0m, in \u001B[0;36mNDFrame.copy\u001B[1;34m(self, deep)\u001B[0m\n\u001B[0;32m   6553\u001B[0m \u001B[38;5;129m@final\u001B[39m\n\u001B[0;32m   6554\u001B[0m \u001B[38;5;28;01mdef\u001B[39;00m \u001B[38;5;21mcopy\u001B[39m(\u001B[38;5;28mself\u001B[39m, deep: bool_t \u001B[38;5;241m|\u001B[39m \u001B[38;5;28;01mNone\u001B[39;00m \u001B[38;5;241m=\u001B[39m \u001B[38;5;28;01mTrue\u001B[39;00m) \u001B[38;5;241m-\u001B[39m\u001B[38;5;241m>\u001B[39m Self:\n\u001B[0;32m   6555\u001B[0m \u001B[38;5;250m    \u001B[39m\u001B[38;5;124;03m\"\"\"\u001B[39;00m\n\u001B[0;32m   6556\u001B[0m \u001B[38;5;124;03m    Make a copy of this object's indices and data.\u001B[39;00m\n\u001B[0;32m   6557\u001B[0m \n\u001B[1;32m   (...)\u001B[0m\n\u001B[0;32m   6683\u001B[0m \u001B[38;5;124;03m    dtype: int64\u001B[39;00m\n\u001B[0;32m   6684\u001B[0m \u001B[38;5;124;03m    \"\"\"\u001B[39;00m\n\u001B[1;32m-> 6685\u001B[0m     data \u001B[38;5;241m=\u001B[39m \u001B[38;5;28;43mself\u001B[39;49m\u001B[38;5;241;43m.\u001B[39;49m\u001B[43m_mgr\u001B[49m\u001B[38;5;241;43m.\u001B[39;49m\u001B[43mcopy\u001B[49m\u001B[43m(\u001B[49m\u001B[43mdeep\u001B[49m\u001B[38;5;241;43m=\u001B[39;49m\u001B[43mdeep\u001B[49m\u001B[43m)\u001B[49m\n\u001B[0;32m   6686\u001B[0m     \u001B[38;5;28mself\u001B[39m\u001B[38;5;241m.\u001B[39m_clear_item_cache()\n\u001B[0;32m   6687\u001B[0m     \u001B[38;5;28;01mreturn\u001B[39;00m \u001B[38;5;28mself\u001B[39m\u001B[38;5;241m.\u001B[39m_constructor_from_mgr(data, axes\u001B[38;5;241m=\u001B[39mdata\u001B[38;5;241m.\u001B[39maxes)\u001B[38;5;241m.\u001B[39m__finalize__(\n\u001B[0;32m   6688\u001B[0m         \u001B[38;5;28mself\u001B[39m, method\u001B[38;5;241m=\u001B[39m\u001B[38;5;124m\"\u001B[39m\u001B[38;5;124mcopy\u001B[39m\u001B[38;5;124m\"\u001B[39m\n\u001B[0;32m   6689\u001B[0m     )\n",
      "File \u001B[1;32m~\\IdeaProjects\\DiabetesPrediction\\venv\\Lib\\site-packages\\pandas\\core\\internals\\managers.py:587\u001B[0m, in \u001B[0;36mBaseBlockManager.copy\u001B[1;34m(self, deep)\u001B[0m\n\u001B[0;32m    584\u001B[0m         res\u001B[38;5;241m.\u001B[39m_blklocs \u001B[38;5;241m=\u001B[39m \u001B[38;5;28mself\u001B[39m\u001B[38;5;241m.\u001B[39m_blklocs\u001B[38;5;241m.\u001B[39mcopy()\n\u001B[0;32m    586\u001B[0m \u001B[38;5;28;01mif\u001B[39;00m deep:\n\u001B[1;32m--> 587\u001B[0m     \u001B[43mres\u001B[49m\u001B[38;5;241;43m.\u001B[39;49m\u001B[43m_consolidate_inplace\u001B[49m\u001B[43m(\u001B[49m\u001B[43m)\u001B[49m\n\u001B[0;32m    588\u001B[0m \u001B[38;5;28;01mreturn\u001B[39;00m res\n",
      "File \u001B[1;32m~\\IdeaProjects\\DiabetesPrediction\\venv\\Lib\\site-packages\\pandas\\core\\internals\\managers.py:1750\u001B[0m, in \u001B[0;36mBlockManager._consolidate_inplace\u001B[1;34m(self)\u001B[0m\n\u001B[0;32m   1744\u001B[0m \u001B[38;5;28;01mdef\u001B[39;00m \u001B[38;5;21m_consolidate_inplace\u001B[39m(\u001B[38;5;28mself\u001B[39m) \u001B[38;5;241m-\u001B[39m\u001B[38;5;241m>\u001B[39m \u001B[38;5;28;01mNone\u001B[39;00m:\n\u001B[0;32m   1745\u001B[0m     \u001B[38;5;66;03m# In general, _consolidate_inplace should only be called via\u001B[39;00m\n\u001B[0;32m   1746\u001B[0m     \u001B[38;5;66;03m#  DataFrame._consolidate_inplace, otherwise we will fail to invalidate\u001B[39;00m\n\u001B[0;32m   1747\u001B[0m     \u001B[38;5;66;03m#  the DataFrame's _item_cache. The exception is for newly-created\u001B[39;00m\n\u001B[0;32m   1748\u001B[0m     \u001B[38;5;66;03m#  BlockManager objects not yet attached to a DataFrame.\u001B[39;00m\n\u001B[0;32m   1749\u001B[0m     \u001B[38;5;28;01mif\u001B[39;00m \u001B[38;5;129;01mnot\u001B[39;00m \u001B[38;5;28mself\u001B[39m\u001B[38;5;241m.\u001B[39mis_consolidated():\n\u001B[1;32m-> 1750\u001B[0m         \u001B[38;5;28mself\u001B[39m\u001B[38;5;241m.\u001B[39mblocks \u001B[38;5;241m=\u001B[39m \u001B[43m_consolidate\u001B[49m\u001B[43m(\u001B[49m\u001B[38;5;28;43mself\u001B[39;49m\u001B[38;5;241;43m.\u001B[39;49m\u001B[43mblocks\u001B[49m\u001B[43m)\u001B[49m\n\u001B[0;32m   1751\u001B[0m         \u001B[38;5;28mself\u001B[39m\u001B[38;5;241m.\u001B[39m_is_consolidated \u001B[38;5;241m=\u001B[39m \u001B[38;5;28;01mTrue\u001B[39;00m\n\u001B[0;32m   1752\u001B[0m         \u001B[38;5;28mself\u001B[39m\u001B[38;5;241m.\u001B[39m_known_consolidated \u001B[38;5;241m=\u001B[39m \u001B[38;5;28;01mTrue\u001B[39;00m\n",
      "File \u001B[1;32m~\\IdeaProjects\\DiabetesPrediction\\venv\\Lib\\site-packages\\pandas\\core\\internals\\managers.py:2217\u001B[0m, in \u001B[0;36m_consolidate\u001B[1;34m(blocks)\u001B[0m\n\u001B[0;32m   2215\u001B[0m new_blocks: \u001B[38;5;28mlist\u001B[39m[Block] \u001B[38;5;241m=\u001B[39m []\n\u001B[0;32m   2216\u001B[0m \u001B[38;5;28;01mfor\u001B[39;00m (_can_consolidate, dtype), group_blocks \u001B[38;5;129;01min\u001B[39;00m grouper:\n\u001B[1;32m-> 2217\u001B[0m     merged_blocks, _ \u001B[38;5;241m=\u001B[39m \u001B[43m_merge_blocks\u001B[49m\u001B[43m(\u001B[49m\n\u001B[0;32m   2218\u001B[0m \u001B[43m        \u001B[49m\u001B[38;5;28;43mlist\u001B[39;49m\u001B[43m(\u001B[49m\u001B[43mgroup_blocks\u001B[49m\u001B[43m)\u001B[49m\u001B[43m,\u001B[49m\u001B[43m \u001B[49m\u001B[43mdtype\u001B[49m\u001B[38;5;241;43m=\u001B[39;49m\u001B[43mdtype\u001B[49m\u001B[43m,\u001B[49m\u001B[43m \u001B[49m\u001B[43mcan_consolidate\u001B[49m\u001B[38;5;241;43m=\u001B[39;49m\u001B[43m_can_consolidate\u001B[49m\n\u001B[0;32m   2219\u001B[0m \u001B[43m    \u001B[49m\u001B[43m)\u001B[49m\n\u001B[0;32m   2220\u001B[0m     new_blocks \u001B[38;5;241m=\u001B[39m extend_blocks(merged_blocks, new_blocks)\n\u001B[0;32m   2221\u001B[0m \u001B[38;5;28;01mreturn\u001B[39;00m \u001B[38;5;28mtuple\u001B[39m(new_blocks)\n",
      "File \u001B[1;32m~\\IdeaProjects\\DiabetesPrediction\\venv\\Lib\\site-packages\\pandas\\core\\internals\\managers.py:2253\u001B[0m, in \u001B[0;36m_merge_blocks\u001B[1;34m(blocks, dtype, can_consolidate)\u001B[0m\n\u001B[0;32m   2250\u001B[0m     new_mgr_locs \u001B[38;5;241m=\u001B[39m new_mgr_locs[argsort]\n\u001B[0;32m   2252\u001B[0m     bp \u001B[38;5;241m=\u001B[39m BlockPlacement(new_mgr_locs)\n\u001B[1;32m-> 2253\u001B[0m     \u001B[38;5;28;01mreturn\u001B[39;00m [\u001B[43mnew_block_2d\u001B[49m\u001B[43m(\u001B[49m\u001B[43mnew_values\u001B[49m\u001B[43m,\u001B[49m\u001B[43m \u001B[49m\u001B[43mplacement\u001B[49m\u001B[38;5;241;43m=\u001B[39;49m\u001B[43mbp\u001B[49m\u001B[43m)\u001B[49m], \u001B[38;5;28;01mTrue\u001B[39;00m\n\u001B[0;32m   2255\u001B[0m \u001B[38;5;66;03m# can't consolidate --> no merge\u001B[39;00m\n\u001B[0;32m   2256\u001B[0m \u001B[38;5;28;01mreturn\u001B[39;00m blocks, \u001B[38;5;28;01mFalse\u001B[39;00m\n",
      "File \u001B[1;32m~\\IdeaProjects\\DiabetesPrediction\\venv\\Lib\\site-packages\\pandas\\core\\internals\\blocks.py:2375\u001B[0m, in \u001B[0;36mnew_block_2d\u001B[1;34m(values, placement, refs)\u001B[0m\n\u001B[0;32m   2370\u001B[0m         \u001B[38;5;28;01mreturn\u001B[39;00m DatetimeLikeBlock\n\u001B[0;32m   2372\u001B[0m     \u001B[38;5;28;01mreturn\u001B[39;00m NumpyBlock\n\u001B[1;32m-> 2375\u001B[0m \u001B[38;5;28;01mdef\u001B[39;00m \u001B[38;5;21mnew_block_2d\u001B[39m(\n\u001B[0;32m   2376\u001B[0m     values: ArrayLike, placement: BlockPlacement, refs: BlockValuesRefs \u001B[38;5;241m|\u001B[39m \u001B[38;5;28;01mNone\u001B[39;00m \u001B[38;5;241m=\u001B[39m \u001B[38;5;28;01mNone\u001B[39;00m\n\u001B[0;32m   2377\u001B[0m ):\n\u001B[0;32m   2378\u001B[0m     \u001B[38;5;66;03m# new_block specialized to case with\u001B[39;00m\n\u001B[0;32m   2379\u001B[0m     \u001B[38;5;66;03m#  ndim=2\u001B[39;00m\n\u001B[0;32m   2380\u001B[0m     \u001B[38;5;66;03m#  isinstance(placement, BlockPlacement)\u001B[39;00m\n\u001B[0;32m   2381\u001B[0m     \u001B[38;5;66;03m#  check_ndim/ensure_block_shape already checked\u001B[39;00m\n\u001B[0;32m   2382\u001B[0m     klass \u001B[38;5;241m=\u001B[39m get_block_type(values\u001B[38;5;241m.\u001B[39mdtype)\n\u001B[0;32m   2384\u001B[0m     values \u001B[38;5;241m=\u001B[39m maybe_coerce_values(values)\n",
      "\u001B[1;31mKeyboardInterrupt\u001B[0m: "
     ]
    }
   ],
   "source": [
    "# Working on a copy of dn_model.\n",
    "dn_model_encoded = dn_model.copy()\n",
    "dn_model_encoded.head()"
   ]
  },
  {
   "cell_type": "code",
   "execution_count": 30,
   "metadata": {
    "ExecuteTime": {
     "end_time": "2024-04-02T22:06:11.276778600Z",
     "start_time": "2024-04-02T22:05:23.689264800Z"
    }
   },
   "outputs": [],
   "source": [
    "# === Using Label Encoder ===\n",
    "\n",
    "# Encoding every categorical column using label encoder.\n",
    "le = LabelEncoder()\n",
    "categorical_cols = ['Street', 'City', 'County', 'State', 'Zipcode', 'Country',       \\\n",
    "    'Timezone', 'Sunrise_Sunset', 'Wind_Direction', 'Weather_Condition', 'Amenity',  \\\n",
    "    'Bump', 'Crossing', 'Give_Way', 'Junction', 'No_Exit', 'Railway', 'Roundabout',  \\\n",
    "    'Station', 'Stop', 'Traffic_Calming', 'Traffic_Signal', 'Turning_Loop',          \\\n",
    "    'Start_Date', 'End_Date', 'Start_Time', 'End_Time']\n",
    "\n",
    "# Iterate through each column above, encoding them in the process.\n",
    "for col in categorical_cols:\n",
    "    dn_model_encoded[col] = le.fit_transform(dn_model_encoded[col])"
   ]
  },
  {
   "cell_type": "code",
   "execution_count": 31,
   "metadata": {
    "ExecuteTime": {
     "end_time": "2024-04-02T22:06:11.339795200Z",
     "start_time": "2024-04-02T22:06:11.308035400Z"
    }
   },
   "outputs": [
    {
     "data": {
      "text/plain": "\"\\n# Encoding every categorical column using Ont-Hot Encoder\\nencoder = OneHotEncoder(sparse=False, handle_unknown='ignore')\\n\\ncategorical_cols = ['Street', 'City', 'County', 'State', 'Zipcode', 'Country',           'Timezone', 'Sunrise_Sunset', 'Wind_Direction', 'Weather_Condition', 'Amenity',      'Bump', 'Crossing', 'Give_Way', 'Junction', 'No_Exit', 'Railway', 'Roundabout',      'Station', 'Stop', 'Traffic_Calming', 'Traffic_Signal', 'Turning_Loop',              'Start_Date', 'End_Date', 'Start_Time', 'End_Time']\\n\\n# Apply OneHotEncoder to the categorical columns\\n# The fit_transform method expects a 2D array, hence `dn_model_encoded[categorical_cols]`\\nencoded_data = encoder.fit_transform(dn_model_2[categorical_cols])\\n\\n# Create a DataFrame with the encoded data\\n# Note: The column names can be retrieved with `encoder.get_feature_names_out()`\\nencoded_df = pd.DataFrame(encoded_data, columns=encoder.get_feature_names_out())\\n\\n# Reset index on the original DataFrame to concatenate it with the encoded DataFrame properly\\ndn_model_2.reset_index(drop=True, inplace=True)\\n\\n# Concatenate the original DataFrame with the new one with encoded columns\\n# Make sure to exclude the original categorical columns since they are now encoded\\ndn_model_encoded = pd.concat([dn_model_2.drop(categorical_cols, axis=1), encoded_df], axis=1)\\n\\n# Iterate through each column above, encoding them in the process.\\n#for col in categorical_cols:\\n#    dn_model_encoded[col] = le.fit_transform(dn_model_encoded[col])\\n\""
     },
     "execution_count": 31,
     "metadata": {},
     "output_type": "execute_result"
    }
   ],
   "source": [
    "# === Using One-Hot Encoder ===\n",
    "\n",
    "'''\n",
    "# Encoding every categorical column using Ont-Hot Encoder\n",
    "encoder = OneHotEncoder(sparse=False, handle_unknown='ignore')\n",
    "\n",
    "categorical_cols = ['Street', 'City', 'County', 'State', 'Zipcode', 'Country',       \\\n",
    "    'Timezone', 'Sunrise_Sunset', 'Wind_Direction', 'Weather_Condition', 'Amenity',  \\\n",
    "    'Bump', 'Crossing', 'Give_Way', 'Junction', 'No_Exit', 'Railway', 'Roundabout',  \\\n",
    "    'Station', 'Stop', 'Traffic_Calming', 'Traffic_Signal', 'Turning_Loop',          \\\n",
    "    'Start_Date', 'End_Date', 'Start_Time', 'End_Time']\n",
    "\n",
    "# Apply OneHotEncoder to the categorical columns\n",
    "# The fit_transform method expects a 2D array, hence `dn_model_encoded[categorical_cols]`\n",
    "encoded_data = encoder.fit_transform(dn_model_2[categorical_cols])\n",
    "\n",
    "# Create a DataFrame with the encoded data\n",
    "# Note: The column names can be retrieved with `encoder.get_feature_names_out()`\n",
    "encoded_df = pd.DataFrame(encoded_data, columns=encoder.get_feature_names_out())\n",
    "\n",
    "# Reset index on the original DataFrame to concatenate it with the encoded DataFrame properly\n",
    "dn_model_2.reset_index(drop=True, inplace=True)\n",
    "\n",
    "# Concatenate the original DataFrame with the new one with encoded columns\n",
    "# Make sure to exclude the original categorical columns since they are now encoded\n",
    "dn_model_encoded = pd.concat([dn_model_2.drop(categorical_cols, axis=1), encoded_df], axis=1)\n",
    "\n",
    "# Iterate through each column above, encoding them in the process.\n",
    "#for col in categorical_cols:\n",
    "#    dn_model_encoded[col] = le.fit_transform(dn_model_encoded[col])\n",
    "'''"
   ]
  },
  {
   "cell_type": "code",
   "execution_count": 32,
   "metadata": {
    "ExecuteTime": {
     "end_time": "2024-04-02T22:06:11.382974300Z",
     "start_time": "2024-04-02T22:06:11.324163500Z"
    }
   },
   "outputs": [
    {
     "name": "stdout",
     "output_type": "stream",
     "text": [
      "         Severity  Distance(mi)  Street   City  County  State  Zipcode  \\\n",
      "0               3         0.010  225914   2886    1124     33   457904   \n",
      "1               2         0.010  171735  10160     595     33   439744   \n",
      "2               2         0.010  306707  13304     347     33   450542   \n",
      "3               3         0.010  225941   2886    1124     33   456976   \n",
      "4               2         0.010  246478   2886    1124     33   458873   \n",
      "...           ...           ...     ...    ...     ...    ...      ...   \n",
      "7728389         2         0.543  275840  10283    1410      3   711392   \n",
      "7728390         2         0.338  225981  10727    1471      3   704708   \n",
      "7728391         2         0.561  211728   8996    1232      3   718292   \n",
      "7728392         2         0.772  297510   2758     973      3   680596   \n",
      "7728393         2         0.537  174866   5324    1470      3   709187   \n",
      "\n",
      "         Country  Timezone  Wind_Direction  Weather_Condition  Amenity  Bump  \\\n",
      "0              0         1               1                 62        0     0   \n",
      "1              0         1               1                 62        0     0   \n",
      "2              0         1              16                 88        0     0   \n",
      "3              0         1              16                 85        0     0   \n",
      "4              0         1              16                 85        0     0   \n",
      "...          ...       ...             ...                ...      ...   ...   \n",
      "7728389        0         3              20                 16        0     0   \n",
      "7728390        0         3              16                 16        0     0   \n",
      "7728391        0         3              15                 91        0     0   \n",
      "7728392        0         3              16                 16        0     0   \n",
      "7728393        0         3              16                 16        0     0   \n",
      "\n",
      "         Crossing  Give_Way  Junction  No_Exit  Railway  Roundabout  Station  \\\n",
      "0               0         0         0        0        0           0        0   \n",
      "1               0         0         0        0        0           0        0   \n",
      "2               0         0         0        0        0           0        0   \n",
      "3               0         0         0        0        0           0        0   \n",
      "4               0         0         0        0        0           0        0   \n",
      "...           ...       ...       ...      ...      ...         ...      ...   \n",
      "7728389         0         0         0        0        0           0        0   \n",
      "7728390         0         0         0        0        0           0        0   \n",
      "7728391         0         0         1        0        0           0        0   \n",
      "7728392         0         0         0        0        0           0        0   \n",
      "7728393         0         0         0        0        0           0        0   \n",
      "\n",
      "         Stop  Traffic_Calming  Traffic_Signal  Turning_Loop  Sunrise_Sunset  \\\n",
      "0           0                0               0             0               1   \n",
      "1           0                0               0             0               1   \n",
      "2           0                0               1             0               1   \n",
      "3           0                0               0             0               1   \n",
      "4           0                0               1             0               0   \n",
      "...       ...              ...             ...           ...             ...   \n",
      "7728389     0                0               0             0               0   \n",
      "7728390     0                0               0             0               0   \n",
      "7728391     0                0               0             0               0   \n",
      "7728392     0                0               0             0               0   \n",
      "7728393     0                0               0             0               0   \n",
      "\n",
      "         Start_Date  End_Date  Start_Time  End_Time  \n",
      "0                 1         0       20760     39724  \n",
      "1                 1         0       22079     23980  \n",
      "2                 1         0       24567     26478  \n",
      "3                 1         0       26614     28527  \n",
      "4                 1         0       27547     29464  \n",
      "...             ...       ...         ...       ...  \n",
      "7728389        1289      1287       65005     66907  \n",
      "7728390        1289      1287       69090     70905  \n",
      "7728391        1289      1287       68421     70328  \n",
      "7728392        1289      1287       68421     70381  \n",
      "7728393        1289      1287       67926     69889  \n",
      "\n",
      "[7715360 rows x 29 columns]\n"
     ]
    }
   ],
   "source": [
    "# Taking a quick look at the encoded dataset.\n",
    "print(dn_model_encoded)"
   ]
  },
  {
   "cell_type": "markdown",
   "metadata": {},
   "source": [
    "### Random Forest Model"
   ]
  },
  {
   "cell_type": "code",
   "execution_count": 33,
   "metadata": {
    "ExecuteTime": {
     "end_time": "2024-04-02T22:06:18.990660100Z",
     "start_time": "2024-04-02T22:06:11.382974300Z"
    }
   },
   "outputs": [],
   "source": [
    "# Split df into test and train\n",
    "# Feature selection\n",
    "X_rfm = dn_model_encoded.drop('Severity', axis = 1)\n",
    "y_rfm = dn_model_encoded['Severity']\n",
    "\n",
    "# 70/30\n",
    "X_rfm_train, X_rfm_test, y_rfm_train, y_rfm_test = train_test_split(X_rfm, y_rfm,   \\\n",
    "    test_size=0.3, random_state = seed)"
   ]
  },
  {
   "cell_type": "code",
   "execution_count": 34,
   "metadata": {
    "ExecuteTime": {
     "end_time": "2024-04-02T22:10:47.042596600Z",
     "start_time": "2024-04-02T22:06:18.990660100Z"
    }
   },
   "outputs": [
    {
     "data": {
      "text/plain": "RandomForestClassifier(n_estimators=5)",
      "text/html": "<style>#sk-container-id-1 {\n  /* Definition of color scheme common for light and dark mode */\n  --sklearn-color-text: black;\n  --sklearn-color-line: gray;\n  /* Definition of color scheme for unfitted estimators */\n  --sklearn-color-unfitted-level-0: #fff5e6;\n  --sklearn-color-unfitted-level-1: #f6e4d2;\n  --sklearn-color-unfitted-level-2: #ffe0b3;\n  --sklearn-color-unfitted-level-3: chocolate;\n  /* Definition of color scheme for fitted estimators */\n  --sklearn-color-fitted-level-0: #f0f8ff;\n  --sklearn-color-fitted-level-1: #d4ebff;\n  --sklearn-color-fitted-level-2: #b3dbfd;\n  --sklearn-color-fitted-level-3: cornflowerblue;\n\n  /* Specific color for light theme */\n  --sklearn-color-text-on-default-background: var(--sg-text-color, var(--theme-code-foreground, var(--jp-content-font-color1, black)));\n  --sklearn-color-background: var(--sg-background-color, var(--theme-background, var(--jp-layout-color0, white)));\n  --sklearn-color-border-box: var(--sg-text-color, var(--theme-code-foreground, var(--jp-content-font-color1, black)));\n  --sklearn-color-icon: #696969;\n\n  @media (prefers-color-scheme: dark) {\n    /* Redefinition of color scheme for dark theme */\n    --sklearn-color-text-on-default-background: var(--sg-text-color, var(--theme-code-foreground, var(--jp-content-font-color1, white)));\n    --sklearn-color-background: var(--sg-background-color, var(--theme-background, var(--jp-layout-color0, #111)));\n    --sklearn-color-border-box: var(--sg-text-color, var(--theme-code-foreground, var(--jp-content-font-color1, white)));\n    --sklearn-color-icon: #878787;\n  }\n}\n\n#sk-container-id-1 {\n  color: var(--sklearn-color-text);\n}\n\n#sk-container-id-1 pre {\n  padding: 0;\n}\n\n#sk-container-id-1 input.sk-hidden--visually {\n  border: 0;\n  clip: rect(1px 1px 1px 1px);\n  clip: rect(1px, 1px, 1px, 1px);\n  height: 1px;\n  margin: -1px;\n  overflow: hidden;\n  padding: 0;\n  position: absolute;\n  width: 1px;\n}\n\n#sk-container-id-1 div.sk-dashed-wrapped {\n  border: 1px dashed var(--sklearn-color-line);\n  margin: 0 0.4em 0.5em 0.4em;\n  box-sizing: border-box;\n  padding-bottom: 0.4em;\n  background-color: var(--sklearn-color-background);\n}\n\n#sk-container-id-1 div.sk-container {\n  /* jupyter's `normalize.less` sets `[hidden] { display: none; }`\n     but bootstrap.min.css set `[hidden] { display: none !important; }`\n     so we also need the `!important` here to be able to override the\n     default hidden behavior on the sphinx rendered scikit-learn.org.\n     See: https://github.com/scikit-learn/scikit-learn/issues/21755 */\n  display: inline-block !important;\n  position: relative;\n}\n\n#sk-container-id-1 div.sk-text-repr-fallback {\n  display: none;\n}\n\ndiv.sk-parallel-item,\ndiv.sk-serial,\ndiv.sk-item {\n  /* draw centered vertical line to link estimators */\n  background-image: linear-gradient(var(--sklearn-color-text-on-default-background), var(--sklearn-color-text-on-default-background));\n  background-size: 2px 100%;\n  background-repeat: no-repeat;\n  background-position: center center;\n}\n\n/* Parallel-specific style estimator block */\n\n#sk-container-id-1 div.sk-parallel-item::after {\n  content: \"\";\n  width: 100%;\n  border-bottom: 2px solid var(--sklearn-color-text-on-default-background);\n  flex-grow: 1;\n}\n\n#sk-container-id-1 div.sk-parallel {\n  display: flex;\n  align-items: stretch;\n  justify-content: center;\n  background-color: var(--sklearn-color-background);\n  position: relative;\n}\n\n#sk-container-id-1 div.sk-parallel-item {\n  display: flex;\n  flex-direction: column;\n}\n\n#sk-container-id-1 div.sk-parallel-item:first-child::after {\n  align-self: flex-end;\n  width: 50%;\n}\n\n#sk-container-id-1 div.sk-parallel-item:last-child::after {\n  align-self: flex-start;\n  width: 50%;\n}\n\n#sk-container-id-1 div.sk-parallel-item:only-child::after {\n  width: 0;\n}\n\n/* Serial-specific style estimator block */\n\n#sk-container-id-1 div.sk-serial {\n  display: flex;\n  flex-direction: column;\n  align-items: center;\n  background-color: var(--sklearn-color-background);\n  padding-right: 1em;\n  padding-left: 1em;\n}\n\n\n/* Toggleable style: style used for estimator/Pipeline/ColumnTransformer box that is\nclickable and can be expanded/collapsed.\n- Pipeline and ColumnTransformer use this feature and define the default style\n- Estimators will overwrite some part of the style using the `sk-estimator` class\n*/\n\n/* Pipeline and ColumnTransformer style (default) */\n\n#sk-container-id-1 div.sk-toggleable {\n  /* Default theme specific background. It is overwritten whether we have a\n  specific estimator or a Pipeline/ColumnTransformer */\n  background-color: var(--sklearn-color-background);\n}\n\n/* Toggleable label */\n#sk-container-id-1 label.sk-toggleable__label {\n  cursor: pointer;\n  display: block;\n  width: 100%;\n  margin-bottom: 0;\n  padding: 0.5em;\n  box-sizing: border-box;\n  text-align: center;\n}\n\n#sk-container-id-1 label.sk-toggleable__label-arrow:before {\n  /* Arrow on the left of the label */\n  content: \"▸\";\n  float: left;\n  margin-right: 0.25em;\n  color: var(--sklearn-color-icon);\n}\n\n#sk-container-id-1 label.sk-toggleable__label-arrow:hover:before {\n  color: var(--sklearn-color-text);\n}\n\n/* Toggleable content - dropdown */\n\n#sk-container-id-1 div.sk-toggleable__content {\n  max-height: 0;\n  max-width: 0;\n  overflow: hidden;\n  text-align: left;\n  /* unfitted */\n  background-color: var(--sklearn-color-unfitted-level-0);\n}\n\n#sk-container-id-1 div.sk-toggleable__content.fitted {\n  /* fitted */\n  background-color: var(--sklearn-color-fitted-level-0);\n}\n\n#sk-container-id-1 div.sk-toggleable__content pre {\n  margin: 0.2em;\n  border-radius: 0.25em;\n  color: var(--sklearn-color-text);\n  /* unfitted */\n  background-color: var(--sklearn-color-unfitted-level-0);\n}\n\n#sk-container-id-1 div.sk-toggleable__content.fitted pre {\n  /* unfitted */\n  background-color: var(--sklearn-color-fitted-level-0);\n}\n\n#sk-container-id-1 input.sk-toggleable__control:checked~div.sk-toggleable__content {\n  /* Expand drop-down */\n  max-height: 200px;\n  max-width: 100%;\n  overflow: auto;\n}\n\n#sk-container-id-1 input.sk-toggleable__control:checked~label.sk-toggleable__label-arrow:before {\n  content: \"▾\";\n}\n\n/* Pipeline/ColumnTransformer-specific style */\n\n#sk-container-id-1 div.sk-label input.sk-toggleable__control:checked~label.sk-toggleable__label {\n  color: var(--sklearn-color-text);\n  background-color: var(--sklearn-color-unfitted-level-2);\n}\n\n#sk-container-id-1 div.sk-label.fitted input.sk-toggleable__control:checked~label.sk-toggleable__label {\n  background-color: var(--sklearn-color-fitted-level-2);\n}\n\n/* Estimator-specific style */\n\n/* Colorize estimator box */\n#sk-container-id-1 div.sk-estimator input.sk-toggleable__control:checked~label.sk-toggleable__label {\n  /* unfitted */\n  background-color: var(--sklearn-color-unfitted-level-2);\n}\n\n#sk-container-id-1 div.sk-estimator.fitted input.sk-toggleable__control:checked~label.sk-toggleable__label {\n  /* fitted */\n  background-color: var(--sklearn-color-fitted-level-2);\n}\n\n#sk-container-id-1 div.sk-label label.sk-toggleable__label,\n#sk-container-id-1 div.sk-label label {\n  /* The background is the default theme color */\n  color: var(--sklearn-color-text-on-default-background);\n}\n\n/* On hover, darken the color of the background */\n#sk-container-id-1 div.sk-label:hover label.sk-toggleable__label {\n  color: var(--sklearn-color-text);\n  background-color: var(--sklearn-color-unfitted-level-2);\n}\n\n/* Label box, darken color on hover, fitted */\n#sk-container-id-1 div.sk-label.fitted:hover label.sk-toggleable__label.fitted {\n  color: var(--sklearn-color-text);\n  background-color: var(--sklearn-color-fitted-level-2);\n}\n\n/* Estimator label */\n\n#sk-container-id-1 div.sk-label label {\n  font-family: monospace;\n  font-weight: bold;\n  display: inline-block;\n  line-height: 1.2em;\n}\n\n#sk-container-id-1 div.sk-label-container {\n  text-align: center;\n}\n\n/* Estimator-specific */\n#sk-container-id-1 div.sk-estimator {\n  font-family: monospace;\n  border: 1px dotted var(--sklearn-color-border-box);\n  border-radius: 0.25em;\n  box-sizing: border-box;\n  margin-bottom: 0.5em;\n  /* unfitted */\n  background-color: var(--sklearn-color-unfitted-level-0);\n}\n\n#sk-container-id-1 div.sk-estimator.fitted {\n  /* fitted */\n  background-color: var(--sklearn-color-fitted-level-0);\n}\n\n/* on hover */\n#sk-container-id-1 div.sk-estimator:hover {\n  /* unfitted */\n  background-color: var(--sklearn-color-unfitted-level-2);\n}\n\n#sk-container-id-1 div.sk-estimator.fitted:hover {\n  /* fitted */\n  background-color: var(--sklearn-color-fitted-level-2);\n}\n\n/* Specification for estimator info (e.g. \"i\" and \"?\") */\n\n/* Common style for \"i\" and \"?\" */\n\n.sk-estimator-doc-link,\na:link.sk-estimator-doc-link,\na:visited.sk-estimator-doc-link {\n  float: right;\n  font-size: smaller;\n  line-height: 1em;\n  font-family: monospace;\n  background-color: var(--sklearn-color-background);\n  border-radius: 1em;\n  height: 1em;\n  width: 1em;\n  text-decoration: none !important;\n  margin-left: 1ex;\n  /* unfitted */\n  border: var(--sklearn-color-unfitted-level-1) 1pt solid;\n  color: var(--sklearn-color-unfitted-level-1);\n}\n\n.sk-estimator-doc-link.fitted,\na:link.sk-estimator-doc-link.fitted,\na:visited.sk-estimator-doc-link.fitted {\n  /* fitted */\n  border: var(--sklearn-color-fitted-level-1) 1pt solid;\n  color: var(--sklearn-color-fitted-level-1);\n}\n\n/* On hover */\ndiv.sk-estimator:hover .sk-estimator-doc-link:hover,\n.sk-estimator-doc-link:hover,\ndiv.sk-label-container:hover .sk-estimator-doc-link:hover,\n.sk-estimator-doc-link:hover {\n  /* unfitted */\n  background-color: var(--sklearn-color-unfitted-level-3);\n  color: var(--sklearn-color-background);\n  text-decoration: none;\n}\n\ndiv.sk-estimator.fitted:hover .sk-estimator-doc-link.fitted:hover,\n.sk-estimator-doc-link.fitted:hover,\ndiv.sk-label-container:hover .sk-estimator-doc-link.fitted:hover,\n.sk-estimator-doc-link.fitted:hover {\n  /* fitted */\n  background-color: var(--sklearn-color-fitted-level-3);\n  color: var(--sklearn-color-background);\n  text-decoration: none;\n}\n\n/* Span, style for the box shown on hovering the info icon */\n.sk-estimator-doc-link span {\n  display: none;\n  z-index: 9999;\n  position: relative;\n  font-weight: normal;\n  right: .2ex;\n  padding: .5ex;\n  margin: .5ex;\n  width: min-content;\n  min-width: 20ex;\n  max-width: 50ex;\n  color: var(--sklearn-color-text);\n  box-shadow: 2pt 2pt 4pt #999;\n  /* unfitted */\n  background: var(--sklearn-color-unfitted-level-0);\n  border: .5pt solid var(--sklearn-color-unfitted-level-3);\n}\n\n.sk-estimator-doc-link.fitted span {\n  /* fitted */\n  background: var(--sklearn-color-fitted-level-0);\n  border: var(--sklearn-color-fitted-level-3);\n}\n\n.sk-estimator-doc-link:hover span {\n  display: block;\n}\n\n/* \"?\"-specific style due to the `<a>` HTML tag */\n\n#sk-container-id-1 a.estimator_doc_link {\n  float: right;\n  font-size: 1rem;\n  line-height: 1em;\n  font-family: monospace;\n  background-color: var(--sklearn-color-background);\n  border-radius: 1rem;\n  height: 1rem;\n  width: 1rem;\n  text-decoration: none;\n  /* unfitted */\n  color: var(--sklearn-color-unfitted-level-1);\n  border: var(--sklearn-color-unfitted-level-1) 1pt solid;\n}\n\n#sk-container-id-1 a.estimator_doc_link.fitted {\n  /* fitted */\n  border: var(--sklearn-color-fitted-level-1) 1pt solid;\n  color: var(--sklearn-color-fitted-level-1);\n}\n\n/* On hover */\n#sk-container-id-1 a.estimator_doc_link:hover {\n  /* unfitted */\n  background-color: var(--sklearn-color-unfitted-level-3);\n  color: var(--sklearn-color-background);\n  text-decoration: none;\n}\n\n#sk-container-id-1 a.estimator_doc_link.fitted:hover {\n  /* fitted */\n  background-color: var(--sklearn-color-fitted-level-3);\n}\n</style><div id=\"sk-container-id-1\" class=\"sk-top-container\"><div class=\"sk-text-repr-fallback\"><pre>RandomForestClassifier(n_estimators=5)</pre><b>In a Jupyter environment, please rerun this cell to show the HTML representation or trust the notebook. <br />On GitHub, the HTML representation is unable to render, please try loading this page with nbviewer.org.</b></div><div class=\"sk-container\" hidden><div class=\"sk-item\"><div class=\"sk-estimator fitted sk-toggleable\"><input class=\"sk-toggleable__control sk-hidden--visually\" id=\"sk-estimator-id-1\" type=\"checkbox\" checked><label for=\"sk-estimator-id-1\" class=\"sk-toggleable__label fitted sk-toggleable__label-arrow fitted\">&nbsp;&nbsp;RandomForestClassifier<a class=\"sk-estimator-doc-link fitted\" rel=\"noreferrer\" target=\"_blank\" href=\"https://scikit-learn.org/1.4/modules/generated/sklearn.ensemble.RandomForestClassifier.html\">?<span>Documentation for RandomForestClassifier</span></a><span class=\"sk-estimator-doc-link fitted\">i<span>Fitted</span></span></label><div class=\"sk-toggleable__content fitted\"><pre>RandomForestClassifier(n_estimators=5)</pre></div> </div></div></div></div>"
     },
     "execution_count": 34,
     "metadata": {},
     "output_type": "execute_result"
    }
   ],
   "source": [
    "# RFM\n",
    "rfm = RandomForestClassifier(n_estimators=5)\n",
    "rfm.fit(X_rfm_train, y_rfm_train)\n",
    "\n",
    "# n_estimators vs. fit time\n",
    "# n = 5 ---> 01m 28.3s\n",
    "# n = 15 --> 04m 25.0s\n",
    "# n = 100 -> 29m 26.7s (expected)"
   ]
  },
  {
   "cell_type": "code",
   "execution_count": 39,
   "outputs": [],
   "source": [
    "# Save X_rfm_train as CSV\n",
    "X_rfm_train.to_csv(\"../Dataset/X_rfm_train.csv\", index=False)\n",
    "\n",
    "# Save X_rfm_test as CSV\n",
    "X_rfm_test.to_csv(\"../Dataset/X_rfm_test.csv\", index=False)\n",
    "\n",
    "# Save y_rfm_train as CSV\n",
    "y_rfm_train.to_csv(\"../Dataset/y_rfm_train.csv\", index=False, header=True)\n",
    "\n",
    "# Save y_rfm_test as CSV\n",
    "y_rfm_test.to_csv(\"../Dataset/y_rfm_test.csv\", index=False, header=True)"
   ],
   "metadata": {
    "collapsed": false,
    "ExecuteTime": {
     "end_time": "2024-04-02T22:14:06.831028Z",
     "start_time": "2024-04-02T22:12:49.099665700Z"
    }
   }
  },
  {
   "cell_type": "code",
   "execution_count": 36,
   "metadata": {
    "ExecuteTime": {
     "end_time": "2024-04-02T22:12:09.771087Z",
     "start_time": "2024-04-02T22:12:00.001963800Z"
    }
   },
   "outputs": [],
   "source": [
    "# Making predictions on the test set\n",
    "y_rfm_pred = rfm.predict(X_rfm_test)"
   ]
  },
  {
   "cell_type": "code",
   "execution_count": 37,
   "metadata": {
    "ExecuteTime": {
     "end_time": "2024-04-02T22:12:18.635115400Z",
     "start_time": "2024-04-02T22:12:09.559979700Z"
    }
   },
   "outputs": [
    {
     "name": "stdout",
     "output_type": "stream",
     "text": [
      "=== RFM ===\n",
      "\n",
      "Precision: 0.7230548322726715\n",
      "Accuracy: 0.8918071656194051\n",
      "Recall: 0.6518369931346695\n",
      "Classification Report:\n",
      "              precision    recall  f1-score   support\n",
      "\n",
      "           1       0.69      0.65      0.67     20110\n",
      "           2       0.92      0.95      0.94   1843722\n",
      "           3       0.78      0.71      0.75    389624\n",
      "           4       0.50      0.29      0.36     61152\n",
      "\n",
      "    accuracy                           0.89   2314608\n",
      "   macro avg       0.72      0.65      0.68   2314608\n",
      "weighted avg       0.88      0.89      0.89   2314608\n",
      "\n",
      "Confusion Matrix:\n",
      "[[  13131    5769    1152      58]\n",
      " [   4325 1755209   68806   15382]\n",
      " [   1436  107451  278211    2526]\n",
      " [    106   36965    6448   17633]]\n"
     ]
    },
    {
     "data": {
      "text/plain": "'\\n=== RFM ===\\n\\nPrecision: 0.758832885577236\\nAccuracy: 0.9023661890047905\\nRecall: 0.6706196450744403\\nClassification Report:\\n              precision    recall  f1-score   support\\n\\n           1       0.76      0.67      0.71     20110\\n           2       0.93      0.96      0.94   1843722\\n           3       0.82      0.73      0.77    389624\\n           4       0.53      0.32      0.40     61152\\n\\n    accuracy                           0.90   2314608\\n   macro avg       0.76      0.67      0.71   2314608\\nweighted avg       0.90      0.90      0.90   2314608\\n\\nConfusion Matrix:\\n[[  13571    5340    1145      54]\\n [   3289 1770468   55354   14611]\\n [    989  100994  285317    2324]\\n [     73   36177    5634   19268]]\\n\\n'"
     },
     "execution_count": 37,
     "metadata": {},
     "output_type": "execute_result"
    }
   ],
   "source": [
    "# Evaluating the model\n",
    "accuracy_rfm = accuracy_score(y_rfm_test, y_rfm_pred)\n",
    "recall_rfm = recall_score(y_rfm_test, y_rfm_pred, average = 'macro')\n",
    "precision_rfm = precision_score(y_rfm_test, y_rfm_pred, pos_label=1, average = 'macro')\n",
    "print('=== RFM ===\\n')\n",
    "print(\"Precision: {}\".format(precision_rfm))\n",
    "print(\"Accuracy: {}\".format(accuracy_rfm))\n",
    "print('Recall: {}'.format(recall_rfm))\n",
    "print(\"Classification Report:\")\n",
    "print(classification_report(y_rfm_test, y_rfm_pred))\n",
    "print(\"Confusion Matrix:\")\n",
    "print(confusion_matrix(y_rfm_test, y_rfm_pred))\n",
    "\n",
    "# save the trained model\n",
    "joblib.dump(rfm, \"../Dataset/random_forest_model.joblib\")\n",
    "\n",
    "'''\n",
    "=== RFM ===\n",
    "\n",
    "Precision: 0.758832885577236\n",
    "Accuracy: 0.9023661890047905\n",
    "Recall: 0.6706196450744403\n",
    "Classification Report:\n",
    "              precision    recall  f1-score   support\n",
    "\n",
    "           1       0.76      0.67      0.71     20110\n",
    "           2       0.93      0.96      0.94   1843722\n",
    "           3       0.82      0.73      0.77    389624\n",
    "           4       0.53      0.32      0.40     61152\n",
    "\n",
    "    accuracy                           0.90   2314608\n",
    "   macro avg       0.76      0.67      0.71   2314608\n",
    "weighted avg       0.90      0.90      0.90   2314608\n",
    "\n",
    "Confusion Matrix:\n",
    "[[  13571    5340    1145      54]\n",
    " [   3289 1770468   55354   14611]\n",
    " [    989  100994  285317    2324]\n",
    " [     73   36177    5634   19268]]\n",
    "\n",
    "'''"
   ]
  },
  {
   "cell_type": "markdown",
   "metadata": {},
   "source": [
    "### Gradient Boosting Machines"
   ]
  },
  {
   "cell_type": "code",
   "execution_count": 38,
   "metadata": {
    "ExecuteTime": {
     "end_time": "2024-04-02T22:12:25.166949Z",
     "start_time": "2024-04-02T22:12:18.635115400Z"
    }
   },
   "outputs": [
    {
     "ename": "ModuleNotFoundError",
     "evalue": "No module named 'xgboost'",
     "output_type": "error",
     "traceback": [
      "\u001B[1;31m---------------------------------------------------------------------------\u001B[0m",
      "\u001B[1;31mModuleNotFoundError\u001B[0m                       Traceback (most recent call last)",
      "Cell \u001B[1;32mIn[38], line 1\u001B[0m\n\u001B[1;32m----> 1\u001B[0m \u001B[38;5;28;01mimport\u001B[39;00m \u001B[38;5;21;01mxgboost\u001B[39;00m \u001B[38;5;28;01mas\u001B[39;00m \u001B[38;5;21;01mxgb\u001B[39;00m\n\u001B[0;32m      2\u001B[0m \u001B[38;5;28;01mfrom\u001B[39;00m \u001B[38;5;21;01mxgboost\u001B[39;00m \u001B[38;5;28;01mimport\u001B[39;00m XGBClassifier\n",
      "\u001B[1;31mModuleNotFoundError\u001B[0m: No module named 'xgboost'"
     ]
    }
   ],
   "source": [
    "import xgboost as xgb\n",
    "from xgboost import XGBClassifier"
   ]
  },
  {
   "cell_type": "code",
   "execution_count": null,
   "metadata": {
    "ExecuteTime": {
     "end_time": "2024-04-02T22:12:25.265425800Z",
     "start_time": "2024-04-02T22:12:25.166949Z"
    }
   },
   "outputs": [],
   "source": [
    "# Split df into test and train\n",
    "# Feature selection\n",
    "X = dn_model_encoded.drop('Severity', axis=1)\n",
    "y = dn_model_encoded['Severity']"
   ]
  },
  {
   "cell_type": "code",
   "execution_count": null,
   "metadata": {
    "ExecuteTime": {
     "start_time": "2024-04-02T22:12:25.182573Z"
    }
   },
   "outputs": [],
   "source": [
    "# 70/30\n",
    "X_train, X_test, y_train, y_test = train_test_split(X, y, test_size=0.3, random_state=seed)"
   ]
  },
  {
   "cell_type": "code",
   "execution_count": null,
   "metadata": {
    "ExecuteTime": {
     "start_time": "2024-04-02T22:12:25.198405600Z"
    }
   },
   "outputs": [],
   "source": [
    "# Classes correction\n",
    "y_train_corrected = y_train - 1\n",
    "y_test_corrected = y_test - 1"
   ]
  },
  {
   "cell_type": "code",
   "execution_count": null,
   "metadata": {
    "ExecuteTime": {
     "start_time": "2024-04-02T22:12:25.198405600Z"
    }
   },
   "outputs": [],
   "source": [
    "# Initialize model\n",
    "xgb_model = XGBClassifier(random_state=seed)"
   ]
  },
  {
   "cell_type": "code",
   "execution_count": null,
   "metadata": {
    "ExecuteTime": {
     "start_time": "2024-04-02T22:12:25.214031600Z"
    }
   },
   "outputs": [],
   "source": [
    "# Train modelo\n",
    "xgb_model.fit(X_train, y_train_corrected)\n",
    "\n",
    "'''\n",
    "2 mins 44 seconds\n",
    "\n",
    "'''"
   ]
  },
  {
   "cell_type": "code",
   "execution_count": null,
   "metadata": {
    "ExecuteTime": {
     "start_time": "2024-04-02T22:12:25.229659Z"
    }
   },
   "outputs": [],
   "source": [
    "# Make prediction with test\n",
    "y_pred = xgb_model.predict(X_test)"
   ]
  },
  {
   "cell_type": "code",
   "execution_count": null,
   "metadata": {
    "ExecuteTime": {
     "start_time": "2024-04-02T22:12:25.229659Z"
    }
   },
   "outputs": [],
   "source": [
    "# Model evaluation\n",
    "accuracy = accuracy_score(y_test_corrected, y_pred)\n",
    "recall = recall_score(y_test_corrected, y_pred, average='macro')\n",
    "precision = precision_score(y_test_corrected, y_pred, average='macro')"
   ]
  },
  {
   "cell_type": "code",
   "execution_count": null,
   "metadata": {
    "ExecuteTime": {
     "start_time": "2024-04-02T22:12:25.245282200Z"
    }
   },
   "outputs": [],
   "source": [
    "# Resultados\n",
    "print('\\n=== XGBoost ===\\n')\n",
    "print(\"Precision: {:.2f}%\".format(precision * 100))\n",
    "print(\"Accuracy: {:.2f}%\".format(accuracy * 100))\n",
    "print('Recall: {:.2f}%'.format(recall * 100))\n",
    "print(\"Classification Report:\")\n",
    "print(classification_report(y_test_corrected, y_pred))\n",
    "print(\"Confusion Matrix:\")\n",
    "print(confusion_matrix(y_test_corrected, y_pred))\n",
    "\n",
    "'''\n",
    "=== XGBoost ===\n",
    "\n",
    "Precision: 77.07%\n",
    "Accuracy: 88.44%\n",
    "Recall: 60.37%\n",
    "Classification Report:\n",
    "              precision    recall  f1-score   support\n",
    "\n",
    "           0       0.72      0.58      0.64     20110\n",
    "           1       0.90      0.96      0.93   1843722\n",
    "           2       0.78      0.63      0.70    389624\n",
    "           3       0.68      0.24      0.35     61152\n",
    "\n",
    "    accuracy                           0.88   2314608\n",
    "   macro avg       0.77      0.60      0.66   2314608\n",
    "weighted avg       0.88      0.88      0.88   2314608\n",
    "\n",
    "Confusion Matrix:\n",
    "[[  11680    6890    1471      69]\n",
    " [   3447 1774352   61762    4161]\n",
    " [   1063  139510  246372    2679]\n",
    " [     65   40385    6072   14630]]\n",
    "\n",
    " '''"
   ]
  },
  {
   "cell_type": "code",
   "execution_count": null,
   "metadata": {
    "ExecuteTime": {
     "start_time": "2024-04-02T22:12:25.249789300Z"
    }
   },
   "outputs": [],
   "source": []
  },
  {
   "cell_type": "markdown",
   "metadata": {},
   "source": [
    "### GMP with parameter grid defined"
   ]
  },
  {
   "cell_type": "code",
   "execution_count": null,
   "metadata": {
    "ExecuteTime": {
     "end_time": "2024-04-02T22:12:25.301500800Z",
     "start_time": "2024-04-02T22:12:25.265425800Z"
    }
   },
   "outputs": [],
   "source": [
    "from sklearn.model_selection import GridSearchCV\n",
    "from xgboost import XGBClassifier\n",
    "from sklearn.metrics import accuracy_score, recall_score, precision_score, classification_report, confusion_matrix\n",
    "from sklearn.model_selection import train_test_split"
   ]
  },
  {
   "cell_type": "code",
   "execution_count": null,
   "metadata": {
    "ExecuteTime": {
     "start_time": "2024-04-02T22:12:25.265425800Z"
    }
   },
   "outputs": [],
   "source": [
    "# Split df into test and train\n",
    "# Feature selection\n",
    "X = dn_model_encoded.drop('Severity', axis=1)\n",
    "y = dn_model_encoded['Severity']"
   ]
  },
  {
   "cell_type": "code",
   "execution_count": null,
   "metadata": {
    "ExecuteTime": {
     "start_time": "2024-04-02T22:12:25.265425800Z"
    }
   },
   "outputs": [],
   "source": [
    "# 70/30\n",
    "X_train, X_test, y_train, y_test = train_test_split(X, y, test_size=0.3, random_state=seed)\n"
   ]
  },
  {
   "cell_type": "code",
   "execution_count": null,
   "metadata": {
    "ExecuteTime": {
     "start_time": "2024-04-02T22:12:25.285620400Z"
    }
   },
   "outputs": [],
   "source": [
    "# Classes correction\n",
    "y_train_corrected = y_train - 1\n",
    "y_test_corrected = y_test - 1"
   ]
  },
  {
   "cell_type": "code",
   "execution_count": null,
   "metadata": {
    "ExecuteTime": {
     "start_time": "2024-04-02T22:12:25.301500800Z"
    }
   },
   "outputs": [],
   "source": [
    "# Define the parameter grid\n",
    "param_grid = {\n",
    "    'learning_rate': [0.2],\n",
    "    'max_depth': [7],\n",
    "    'n_estimators': [300]\n",
    "}"
   ]
  },
  {
   "cell_type": "code",
   "execution_count": null,
   "metadata": {
    "ExecuteTime": {
     "start_time": "2024-04-02T22:12:25.320344Z"
    }
   },
   "outputs": [],
   "source": [
    "# Initialize XGBoost classifier\n",
    "xgb_model = XGBClassifier(random_state=seed)"
   ]
  },
  {
   "cell_type": "code",
   "execution_count": null,
   "metadata": {
    "ExecuteTime": {
     "start_time": "2024-04-02T22:12:25.340405900Z"
    }
   },
   "outputs": [],
   "source": [
    "# Perform grid search with cross-validation using specified parameters only\n",
    "grid_search = GridSearchCV(estimator=xgb_model, param_grid=param_grid, cv=3, scoring='accuracy', verbose=2)\n",
    "grid_search.fit(X_train, y_train_corrected)\n",
    "\n",
    "'''\n",
    "23 minutes and 35 seconds\n",
    "'''"
   ]
  },
  {
   "cell_type": "code",
   "execution_count": null,
   "metadata": {
    "ExecuteTime": {
     "end_time": "2024-04-02T22:12:25.349860100Z",
     "start_time": "2024-04-02T22:12:25.344854100Z"
    }
   },
   "outputs": [],
   "source": [
    "# Make predictions with the test set\n",
    "y_pred = grid_search.predict(X_test)"
   ]
  },
  {
   "cell_type": "code",
   "execution_count": null,
   "metadata": {
    "ExecuteTime": {
     "start_time": "2024-04-02T22:12:25.364548600Z"
    }
   },
   "outputs": [],
   "source": [
    "# Model evaluation\n",
    "accuracy = accuracy_score(y_test_corrected, y_pred)\n",
    "recall = recall_score(y_test_corrected, y_pred, average='macro')\n",
    "precision = precision_score(y_test_corrected, y_pred, average='macro')"
   ]
  },
  {
   "cell_type": "code",
   "execution_count": null,
   "metadata": {
    "ExecuteTime": {
     "start_time": "2024-04-02T22:12:25.364548600Z"
    }
   },
   "outputs": [],
   "source": [
    "# Results\n",
    "print('\\n=== XGBoost ===\\n')\n",
    "print(\"Precision: {:.2f}%\".format(precision * 100))\n",
    "print(\"Accuracy: {:.2f}%\".format(accuracy * 100))\n",
    "print('Recall: {:.2f}%'.format(recall * 100))\n",
    "print(\"Classification Report:\")\n",
    "print(classification_report(y_test_corrected, y_pred))\n",
    "print(\"Confusion Matrix:\")\n",
    "print(confusion_matrix(y_test_corrected, y_pred))\n",
    "\n",
    "'''\n",
    "\n",
    "\n",
    "=== XGBoost ===\n",
    "\n",
    "Precision: 78.84%\n",
    "Accuracy: 89.66%\n",
    "Recall: 64.34%\n",
    "Classification Report:\n",
    "              precision    recall  f1-score   support\n",
    "\n",
    "           0       0.75      0.64      0.69     20110\n",
    "           1       0.92      0.96      0.94   1843722\n",
    "           2       0.80      0.69      0.74    389624\n",
    "           3       0.69      0.28      0.40     61152\n",
    "\n",
    "    accuracy                           0.90   2314608\n",
    "   macro avg       0.79      0.64      0.69   2314608\n",
    "weighted avg       0.89      0.90      0.89   2314608\n",
    "\n",
    "Confusion Matrix:\n",
    "[[  12878    5815    1349      68]\n",
    " [   3242 1775994   59870    4616]\n",
    " [    998  116170  269414    3042]\n",
    " [    106   38380    5647   17019]]\n",
    "\n",
    " '''"
   ]
  },
  {
   "cell_type": "code",
   "execution_count": null,
   "metadata": {
    "ExecuteTime": {
     "start_time": "2024-04-02T22:12:25.385587900Z"
    }
   },
   "outputs": [],
   "source": []
  },
  {
   "cell_type": "markdown",
   "metadata": {},
   "source": [
    "### Graph target variable (GBM)"
   ]
  },
  {
   "cell_type": "code",
   "execution_count": null,
   "metadata": {
    "ExecuteTime": {
     "start_time": "2024-04-02T22:12:25.385587900Z"
    }
   },
   "outputs": [],
   "source": [
    "import matplotlib.pyplot as plt\n",
    "\n",
    "# Increase the path chunk size\n",
    "plt.rcParams['agg.path.chunksize'] = 10000  # Adjust as needed\n",
    "\n",
    "# Get the model predictions\n",
    "y_pred = grid_search.predict(X_test)\n",
    "\n",
    "# Plot the actual and predicted values\n",
    "plt.figure(figsize=(10, 6))\n",
    "plt.plot(y_test_corrected, label='Actual', color='blue')\n",
    "plt.plot(y_pred, label='Predictions', color='red')\n",
    "plt.xlabel('Sample Index')\n",
    "plt.ylabel('Target Variable Value')\n",
    "plt.title('Comparison between Actual and Predicted Values')\n",
    "plt.legend()\n",
    "plt.grid(True)\n",
    "plt.show()"
   ]
  },
  {
   "cell_type": "markdown",
   "metadata": {},
   "source": [
    "### Accuracy on Training (GBM)"
   ]
  },
  {
   "cell_type": "code",
   "execution_count": null,
   "metadata": {
    "ExecuteTime": {
     "start_time": "2024-04-02T22:12:25.385587900Z"
    }
   },
   "outputs": [],
   "source": [
    "from sklearn.metrics import accuracy_score\n",
    "'''\n",
    "# Train model with best parameters\n",
    "grid_search.fit(X_train, y_train_corrected)\n",
    "\n",
    "# Make predictions with the training set\n",
    "y_train_pred = grid_search.predict(X_train)\n",
    "'''\n",
    "\n",
    "# Calculate accuracy on training set\n",
    "train_accuracy = accuracy_score(y_train_corrected, y_train_pred)\n",
    "\n",
    "# Make predictions with the test set\n",
    "y_test_pred = grid_search.predict(X_test)\n",
    "\n",
    "# Calculate accuracy on test set\n",
    "test_accuracy = accuracy_score(y_test_corrected, y_test_pred)\n",
    "\n",
    "# Print accuracies\n",
    "print(\"Training Accuracy: {:.2f}%\".format(train_accuracy * 100))\n",
    "print(\"Test Accuracy: {:.2f}%\".format(test_accuracy * 100))"
   ]
  },
  {
   "cell_type": "markdown",
   "metadata": {},
   "source": [
    "### Parameter Tunning GBM"
   ]
  },
  {
   "cell_type": "code",
   "execution_count": null,
   "metadata": {
    "ExecuteTime": {
     "start_time": "2024-04-02T22:12:25.401017400Z"
    }
   },
   "outputs": [],
   "source": [
    "from sklearn.model_selection import GridSearchCV"
   ]
  },
  {
   "cell_type": "code",
   "execution_count": null,
   "metadata": {
    "ExecuteTime": {
     "end_time": "2024-04-02T22:12:25.530226700Z",
     "start_time": "2024-04-02T22:12:25.401017400Z"
    }
   },
   "outputs": [],
   "source": [
    "# Define the parameter grid\n",
    "param_grid = {\n",
    "    'learning_rate': [0.05, 0.1, 0.2],\n",
    "    'max_depth': [3, 5, 7],\n",
    "    'n_estimators': [100, 200, 300]\n",
    "}"
   ]
  },
  {
   "cell_type": "code",
   "execution_count": null,
   "metadata": {
    "ExecuteTime": {
     "start_time": "2024-04-02T22:12:25.401017400Z"
    }
   },
   "outputs": [],
   "source": [
    "# Initialize XGBoost classifier\n",
    "xgb_model = XGBClassifier(random_state=seed)"
   ]
  },
  {
   "cell_type": "code",
   "execution_count": null,
   "metadata": {
    "ExecuteTime": {
     "start_time": "2024-04-02T22:12:25.401017400Z"
    }
   },
   "outputs": [],
   "source": [
    "# Perform grid search with cross-validation\n",
    "grid_search = GridSearchCV(estimator=xgb_model, param_grid=param_grid, cv=3, scoring='accuracy', verbose=2)\n",
    "grid_search.fit(X_train, y_train_corrected)"
   ]
  },
  {
   "cell_type": "code",
   "execution_count": null,
   "metadata": {
    "ExecuteTime": {
     "start_time": "2024-04-02T22:12:25.417637600Z"
    }
   },
   "outputs": [],
   "source": [
    "# Get the best parameters\n",
    "best_params = grid_search.best_params_\n",
    "print(\"Best Parameters:\", best_params)"
   ]
  },
  {
   "cell_type": "code",
   "execution_count": null,
   "metadata": {
    "ExecuteTime": {
     "start_time": "2024-04-02T22:12:25.417637600Z"
    }
   },
   "outputs": [],
   "source": [
    "# Train model with best parameters\n",
    "best_xgb_model = XGBClassifier(random_state=seed, **best_params)\n",
    "best_xgb_model.fit(X_train, y_train_corrected)"
   ]
  },
  {
   "cell_type": "code",
   "execution_count": null,
   "metadata": {
    "ExecuteTime": {
     "start_time": "2024-04-02T22:12:25.430357300Z"
    }
   },
   "outputs": [],
   "source": [
    "# Make predictions with the test set\n",
    "y_pred = best_xgb_model.predict(X_test)"
   ]
  },
  {
   "cell_type": "code",
   "execution_count": null,
   "metadata": {
    "ExecuteTime": {
     "start_time": "2024-04-02T22:12:25.430357300Z"
    }
   },
   "outputs": [],
   "source": [
    "# Model evaluation\n",
    "accuracy = accuracy_score(y_test_corrected, y_pred)\n",
    "recall = recall_score(y_test_corrected, y_pred, average='macro')\n",
    "precision = precision_score(y_test_corrected, y_pred, average='macro')"
   ]
  },
  {
   "cell_type": "code",
   "execution_count": null,
   "metadata": {
    "ExecuteTime": {
     "start_time": "2024-04-02T22:12:25.445888500Z"
    }
   },
   "outputs": [],
   "source": [
    "# Results\n",
    "print('\\n=== XGBoost ===\\n')\n",
    "print(\"Precision: {:.2f}%\".format(precision * 100))\n",
    "print(\"Accuracy: {:.2f}%\".format(accuracy * 100))\n",
    "print('Recall: {:.2f}%'.format(recall * 100))\n",
    "print(\"Classification Report:\")\n",
    "print(classification_report(y_test_corrected, y_pred))\n",
    "print(\"Confusion Matrix:\")\n",
    "print(confusion_matrix(y_test_corrected, y_pred))"
   ]
  },
  {
   "cell_type": "code",
   "execution_count": null,
   "metadata": {
    "ExecuteTime": {
     "start_time": "2024-04-02T22:12:25.449892600Z"
    }
   },
   "outputs": [],
   "source": []
  },
  {
   "cell_type": "code",
   "execution_count": null,
   "outputs": [],
   "source": [],
   "metadata": {
    "collapsed": false
   }
  }
 ],
 "metadata": {
  "kernelspec": {
   "display_name": "Python 3",
   "language": "python",
   "name": "python3"
  },
  "language_info": {
   "codemirror_mode": {
    "name": "ipython",
    "version": 3
   },
   "file_extension": ".py",
   "mimetype": "text/x-python",
   "name": "python",
   "nbconvert_exporter": "python",
   "pygments_lexer": "ipython3",
   "version": "3.12.0"
  }
 },
 "nbformat": 4,
 "nbformat_minor": 2
}
